{
 "cells": [
  {
   "cell_type": "markdown",
   "id": "2891bdda-21e5-45e7-9b50-891292c27656",
   "metadata": {},
   "source": [
    "# 计算各种值"
   ]
  },
  {
   "cell_type": "markdown",
   "id": "11b34b08-d0fe-4a14-ad57-bac9b2f8a331",
   "metadata": {},
   "source": [
    "**均值**"
   ]
  },
  {
   "cell_type": "markdown",
   "id": "70b12df7-64ec-4578-9b1a-54741ead02aa",
   "metadata": {},
   "source": [
    "均值（mean）是一组数值的算术平均数，即所有数值相加后除以数值的个数。在Python中，可以使用以下代码计算一组数值的均值：\r\n"
   ]
  },
  {
   "cell_type": "code",
   "execution_count": 1,
   "id": "686da1f3-98aa-45c0-8bb2-29a17d9a2206",
   "metadata": {},
   "outputs": [
    {
     "name": "stdout",
     "output_type": "stream",
     "text": [
      "均值为： 3.0\n"
     ]
    }
   ],
   "source": [
    "def mean(numbers):\n",
    "    return sum(numbers) / len(numbers)\n",
    "\n",
    "numbers = [1, 2, 3, 4, 5]\n",
    "result = mean(numbers)\n",
    "print(\"均值为：\", result)"
   ]
  },
  {
   "cell_type": "markdown",
   "id": "dce8692c-6dfe-449b-82c7-29fcd9ffa3c1",
   "metadata": {},
   "source": [
    "**中位数**"
   ]
  },
  {
   "cell_type": "markdown",
   "id": "902caf2a-340a-4bf8-aab6-d7687619d688",
   "metadata": {},
   "source": [
    "中位数是将一组数据从小到大排序后，位于中间位置的数。如果数据个数为奇数，则中位数就是中间的那个数；如果数据个数为偶数，则中位数是中间两个数的平均值。\r\n"
   ]
  },
  {
   "cell_type": "code",
   "execution_count": 2,
   "id": "b1e5e31d-672a-4567-aaaa-199cf7e5995f",
   "metadata": {},
   "outputs": [
    {
     "name": "stdout",
     "output_type": "stream",
     "text": [
      "中位数是： 3\n"
     ]
    }
   ],
   "source": [
    "def find_median(nums):\n",
    "    nums.sort()\n",
    "    length = len(nums)\n",
    "    if length % 2 == 0:\n",
    "        return (nums[length // 2 - 1] + nums[length // 2]) / 2\n",
    "    else:\n",
    "        return nums[length // 2]\n",
    "\n",
    "# 示例\n",
    "nums = [3, 5, 1, 4, 2]\n",
    "median = find_median(nums)\n",
    "print(\"中位数是：\", median)"
   ]
  },
  {
   "cell_type": "markdown",
   "id": "1e1b518a-62c3-4a5e-a2d6-4d260086eaa4",
   "metadata": {},
   "source": [
    "**众数**"
   ]
  },
  {
   "cell_type": "markdown",
   "id": "1e1a23ec-59dc-47a4-9a04-79528e276357",
   "metadata": {},
   "source": [
    "众数是指在一组数据中出现次数最多的数值。在Python中，可以使用collections模块的Counter类来找出众数并输出每个数字出现的频率。\r\n"
   ]
  },
  {
   "cell_type": "code",
   "execution_count": 3,
   "id": "a50060c6-2fec-425f-a080-8b72a38899ea",
   "metadata": {},
   "outputs": [
    {
     "name": "stdout",
     "output_type": "stream",
     "text": [
      "众数是： [1, 2]\n"
     ]
    }
   ],
   "source": [
    "from collections import Counter\n",
    "\n",
    "def find_modes(numbers):\n",
    "    # 使用Counter统计每个数字出现的次数\n",
    "    counter = Counter(numbers)\n",
    "    \n",
    "    # 找到出现次数最多的数字\n",
    "    max_count = max(counter.values())\n",
    "    modes = [num for num, count in counter.items() if count == max_count]\n",
    "    \n",
    "    return modes\n",
    "\n",
    "# 测试\n",
    "numbers = [1, 1, 1, 2, 2, 2, 3, 4, 5, 6, 7, 8, 9, 11]\n",
    "modes = find_modes(numbers)\n",
    "print(\"众数是：\", modes)"
   ]
  },
  {
   "cell_type": "markdown",
   "id": "0c5831b6-c7cd-4eba-b7bb-22d9623e8788",
   "metadata": {},
   "source": [
    "计算每个数字出现的频率："
   ]
  },
  {
   "cell_type": "code",
   "execution_count": 4,
   "id": "93d23da3-3b3a-42c9-b665-6585105ef44f",
   "metadata": {},
   "outputs": [
    {
     "name": "stdout",
     "output_type": "stream",
     "text": [
      "{1: 4, 2: 3, 3: 5}\n"
     ]
    }
   ],
   "source": [
    "def count_frequency(numbers):\n",
    "    frequency = {}\n",
    "    for num in numbers:\n",
    "        if num in frequency:\n",
    "            frequency[num] += 1\n",
    "        else:\n",
    "            frequency[num] = 1\n",
    "    return frequency\n",
    "\n",
    "numbers = [1, 2, 3, 2, 1, 3, 1, 1, 2, 3, 3, 3]\n",
    "result = count_frequency(numbers)\n",
    "print(result)"
   ]
  },
  {
   "cell_type": "markdown",
   "id": "9f698201-122e-419d-a327-0adeb1314fa9",
   "metadata": {},
   "source": [
    "# 离散与相关"
   ]
  },
  {
   "cell_type": "markdown",
   "id": "eddfe7db-fead-44cd-b04d-9866f9a53d88",
   "metadata": {},
   "source": [
    "**极差**"
   ]
  },
  {
   "cell_type": "markdown",
   "id": "87164dcd-15b3-4336-9f09-175999a36ddd",
   "metadata": {},
   "source": [
    "极差是指一组数据中最大值与最小值之间的差。计算极差的步骤如下：\n",
    "\n",
    "1. 找到数据集中的最大值和最小值。\n",
    "2. 计算最大值与最小值之间的差。"
   ]
  },
  {
   "cell_type": "code",
   "execution_count": 5,
   "id": "f6b7f2ed-2899-420e-89e6-5426cb0aacfd",
   "metadata": {},
   "outputs": [
    {
     "name": "stdout",
     "output_type": "stream",
     "text": [
      "极差为： 4\n"
     ]
    }
   ],
   "source": [
    "def find_range(data):\n",
    "    min_value = min(data)\n",
    "    max_value = max(data)\n",
    "    range_value = max_value - min_value\n",
    "    return range_value\n",
    "\n",
    "data = [1, 2, 3, 4, 5]\n",
    "range_value = find_range(data)\n",
    "print(\"极差为：\", range_value)"
   ]
  },
  {
   "cell_type": "markdown",
   "id": "f3972548-04de-45a8-8121-595e6c2244fc",
   "metadata": {},
   "source": [
    "**方差与标准差**"
   ]
  },
  {
   "cell_type": "markdown",
   "id": "6b6d5a72-e0a1-43a9-afd8-fb872c9ad72c",
   "metadata": {},
   "source": [
    "方差是衡量数据波动的一种指标，它描述的是观测值与平均数之间的偏离程度。具体来说，方差就是各个数据与平均数之差的平方的和的平均数。而标准差则是方差的算术平方根，也就是离均差平方的算术平均数的平方根，常用σ表示。标准差能反映一个数据集的离散程度，它是数值分散程度的一种直观度量。\r\n",
    "\r\n",
    "对比两者，我们可以看出，方差和标准差都是用来衡量数据的离散程度的，只不过计算方式不同。方差是各数据偏离平均值的差值的平方和的平均数，通过平方的方式放大了离均值较远的数据的影响；而标准差则是对方差的平方根，它将方差的值约束在一个非负实数范围内，可以更好地反映出数据的分布情况。在实际应用中，我们通常使用标准差而非方差来分析数据的离散程度，因为标准差的单位与原始数据的单位相同，更便于理解。"
   ]
  },
  {
   "cell_type": "markdown",
   "id": "c0416466-3f4a-45ae-b384-48b14b8944c9",
   "metadata": {},
   "source": [
    "方差计算公式：\n",
    "\r\n",
    "$$\\mathrm{Var}(X) = \\frac{1}{n}\\sum_{i=1}^{n}(X_i - \\bar{X})^2$$\r\n",
    "其中，$X_i$表示第$i$个数据，$\\bar{X}$表示数据的平均值，$n$表示数据的总个数。"
   ]
  },
  {
   "cell_type": "markdown",
   "id": "f8c9fca4-4f06-42ba-851b-137412616a16",
   "metadata": {},
   "source": [
    "标准差的计算公式为：\n",
    "\r\n",
    "$$\\mathrm{Std}(X) = \\sqrt{\\mathrm{Var}(X)}$$\r\n",
    "其中，$X$表示数据，$mathrm{Var}(X)$表示数据的方差。"
   ]
  },
  {
   "cell_type": "code",
   "execution_count": 6,
   "id": "7cd0df78-00b9-4c99-9edb-b8bf89c48208",
   "metadata": {},
   "outputs": [
    {
     "name": "stdout",
     "output_type": "stream",
     "text": [
      "方差： 2.0\n",
      "标准差： 1.4142135623730951\n"
     ]
    }
   ],
   "source": [
    "def variance(data):\n",
    "    n = len(data)\n",
    "    mean = sum(data) / n\n",
    "    return sum((x - mean) ** 2 for x in data) / n\n",
    "\n",
    "def standard_deviation(data):\n",
    "    var = variance(data)\n",
    "    return var ** 0.5\n",
    "\n",
    "data = [1, 2, 3, 4, 5]\n",
    "print(\"方差：\", variance(data))\n",
    "print(\"标准差：\", standard_deviation(data))"
   ]
  },
  {
   "cell_type": "markdown",
   "id": "cb573730-b4b1-4ea4-8274-bb140e72aed7",
   "metadata": {},
   "source": [
    "使用标准库来进行计算："
   ]
  },
  {
   "cell_type": "code",
   "execution_count": 7,
   "id": "bd599814-e329-45fe-b8ee-a156d079fe87",
   "metadata": {},
   "outputs": [
    {
     "name": "stdout",
     "output_type": "stream",
     "text": [
      "Variance: 2.5\n"
     ]
    }
   ],
   "source": [
    "import statistics\n",
    "\n",
    "data = [1, 2, 3, 4, 5]\n",
    "variance = statistics.variance(data)\n",
    "print(\"Variance:\", variance)"
   ]
  },
  {
   "cell_type": "code",
   "execution_count": 8,
   "id": "108351d9-e93d-4fc6-bef2-efaef05f8f17",
   "metadata": {},
   "outputs": [
    {
     "name": "stdout",
     "output_type": "stream",
     "text": [
      "Standard Deviation: 1.5811388300841898\n"
     ]
    }
   ],
   "source": [
    "import statistics\n",
    "\n",
    "data = [1, 2, 3, 4, 5]\n",
    "std_deviation = statistics.stdev(data)\n",
    "print(\"Standard Deviation:\", std_deviation)"
   ]
  },
  {
   "cell_type": "markdown",
   "id": "420644f6-b589-4b36-8ce6-7299be62a0d6",
   "metadata": {},
   "source": [
    "# 两个数据集之间的相关性"
   ]
  },
  {
   "cell_type": "markdown",
   "id": "6c74ae15-4b62-4015-9b83-3be81671532a",
   "metadata": {},
   "source": [
    "皮尔森相关系数是一种线性相关系数，用于度量两个变量X和Y之间的相关（线性相关），其值介于-1与1之间。  \n",
    "\n",
    "皮尔森相关系数的计算公式为：$r = Σ[(xi - xmean)(yi - ymean)] / sqrt[Σ(xi - xmean)^2 * Σ(yi - ymean)^2]$，其中$xi$和$yi$分别表示变量X和Y的第i个观测值，$xmean$和$ymean$表示变量X和Y的均值。"
   ]
  },
  {
   "cell_type": "markdown",
   "id": "6e6d9768-bd13-49fe-aa17-60ec8fd72785",
   "metadata": {},
   "source": [
    "皮尔森相关系数的计算公式为：\n",
    "\n",
    "$r = \\frac{\\sum_{i=1}^{n} (x_i - \\bar{x})(y_i - \\bar{y})}{\\sqrt{\\sum_{i=1}^{n} (x_i - \\bar{x})^2 \\sum_{i=1}^{n} (y_i - \\bar{y})^2}}$"
   ]
  },
  {
   "cell_type": "markdown",
   "id": "ba20896c-5f5a-4c92-a467-77e7a7010676",
   "metadata": {},
   "source": [
    "接着实现相关的函数："
   ]
  },
  {
   "cell_type": "code",
   "execution_count": 9,
   "id": "9267ef24-dbee-4529-94ff-5acf1e773063",
   "metadata": {},
   "outputs": [
    {
     "name": "stdout",
     "output_type": "stream",
     "text": [
      "1.0\n"
     ]
    }
   ],
   "source": [
    "def pearson_correlation_coefficient(x, y):\n",
    "    n = len(x)\n",
    "    if n != len(y):\n",
    "        raise ValueError(\"输入的两个列表长度不一致\")\n",
    "\n",
    "    sum_x = sum(x)\n",
    "    sum_y = sum(y)\n",
    "    sum_x_square = sum([i ** 2 for i in x])\n",
    "    sum_y_square = sum([i ** 2 for i in y])\n",
    "    sum_xy = sum([x[i] * y[i] for i in range(n)])\n",
    "\n",
    "    numerator = n * sum_xy - sum_x * sum_y\n",
    "    denominator = ((n * sum_x_square - sum_x ** 2) * (n * sum_y_square - sum_y ** 2)) ** 0.5\n",
    "\n",
    "    if denominator == 0:\n",
    "        return 0\n",
    "\n",
    "    return numerator / denominator\n",
    "\n",
    "# 示例\n",
    "x = [1, 2, 3, 4, 5]\n",
    "y = [2, 4, 6, 8, 10]\n",
    "print(pearson_correlation_coefficient(x, y))  # 输出：1.0"
   ]
  },
  {
   "cell_type": "markdown",
   "id": "b52f276c-689c-4bdf-a9fc-2379f81d4e5a",
   "metadata": {},
   "source": [
    "假设有高中成绩和大学入学考试成绩："
   ]
  },
  {
   "cell_type": "code",
   "execution_count": 10,
   "id": "b0cb9530-eb56-4272-bb9d-9649adfa6f92",
   "metadata": {},
   "outputs": [],
   "source": [
    "x = [90, 92, 95, 96, 87, 87, 90, 95, 98, 96]  # 高考成绩\n",
    "y = [85, 87, 86, 97, 96, 88, 89, 98, 98, 87]  # 大学入学成绩"
   ]
  },
  {
   "cell_type": "markdown",
   "id": "ee273440-638d-4828-8477-16184e55b291",
   "metadata": {},
   "source": [
    "计算皮尔森相关系数："
   ]
  },
  {
   "cell_type": "code",
   "execution_count": 11,
   "id": "9bc14fc3-c33a-4975-9917-d48fb7aab4af",
   "metadata": {},
   "outputs": [
    {
     "data": {
      "text/plain": [
       "0.3183785775683751"
      ]
     },
     "execution_count": 11,
     "metadata": {},
     "output_type": "execute_result"
    }
   ],
   "source": [
    "pearson_correlation_coefficient(x, y)"
   ]
  },
  {
   "cell_type": "code",
   "execution_count": 12,
   "id": "54919c8b-ce23-4e94-a9aa-57b51b988ad5",
   "metadata": {},
   "outputs": [
    {
     "name": "stdout",
     "output_type": "stream",
     "text": [
      "0.3183785775683752\n"
     ]
    }
   ],
   "source": [
    "import numpy as np\n",
    "\n",
    "x = [90, 92, 95, 96, 87, 87, 90, 95, 98, 96]\n",
    "y = [85, 87, 86, 97, 96, 88, 89, 98, 98, 87]\n",
    "\n",
    "pearson_corr = np.corrcoef(x, y)[0, 1]\n",
    "print(pearson_corr)"
   ]
  },
  {
   "cell_type": "markdown",
   "id": "f9ee0edd-68f7-4c75-bdc3-a6cc2fc56e0b",
   "metadata": {},
   "source": [
    "# 散点图"
   ]
  },
  {
   "cell_type": "markdown",
   "id": "9b1c7afc-b79c-4238-a4d8-0bafdab1e4a3",
   "metadata": {},
   "source": [
    "可以绘制上面的数据的散点图："
   ]
  },
  {
   "cell_type": "code",
   "execution_count": 13,
   "id": "2aad0065-fe41-4804-82a9-5372f6d3f81d",
   "metadata": {},
   "outputs": [],
   "source": [
    "import matplotlib.pyplot as plt"
   ]
  },
  {
   "cell_type": "code",
   "execution_count": 14,
   "id": "045049ac-9ac0-442c-a6a6-e1ea96037d88",
   "metadata": {},
   "outputs": [
    {
     "data": {
      "image/png": "[encoded data removed]",
      "text/plain": [
       "<Figure size 640x480 with 1 Axes>"
      ]
     },
     "metadata": {},
     "output_type": "display_data"
    }
   ],
   "source": [
    "plt.scatter(x, y)\n",
    "plt.show()"
   ]
  },
  {
   "cell_type": "markdown",
   "id": "44b97bb4-04cb-4834-8432-50b5c1645a13",
   "metadata": {},
   "source": [
    "# 从文件中读取数据"
   ]
  },
  {
   "cell_type": "markdown",
   "id": "4c961b39-74d1-4cd2-bc0f-172b193738ff",
   "metadata": {},
   "source": [
    "**从txt文件中读取数据**"
   ]
  },
  {
   "cell_type": "markdown",
   "id": "a0280a51-db35-4d7a-9d83-ad26cb463360",
   "metadata": {},
   "source": [
    "从txt文件中读取数据："
   ]
  },
  {
   "cell_type": "code",
   "execution_count": 15,
   "id": "1ec916a5-e5a6-432b-937b-c6423b14c6de",
   "metadata": {},
   "outputs": [
    {
     "name": "stdout",
     "output_type": "stream",
     "text": [
      "Sum of the numbers:5733.0\n"
     ]
    }
   ],
   "source": [
    "def sum_data(filename):\n",
    "    '''该函数会读取一个文件并且计算所有数字的总和'''\n",
    "    s = 0\n",
    "    with open(filename) as f:\n",
    "        for line in f:\n",
    "            s = s + float(line)\n",
    "    print(\"Sum of the numbers:{0}\".format(s))\n",
    "\n",
    "if __name__ == \"__main__\":\n",
    "    sum_data('mydata.txt')"
   ]
  },
  {
   "cell_type": "markdown",
   "id": "4d4cb94d-2a17-4fb4-8f84-f70ffabb8488",
   "metadata": {},
   "source": [
    "或者我们可以重构一下上述代码："
   ]
  },
  {
   "cell_type": "code",
   "execution_count": 18,
   "id": "38fd0164-a825-45dd-a034-98953dac00c6",
   "metadata": {},
   "outputs": [
    {
     "name": "stdout",
     "output_type": "stream",
     "text": [
      "The sum of the numbers in the file is 5733.0\n"
     ]
    }
   ],
   "source": [
    "# 读取文件中的数据\n",
    "def read_file(filename):\n",
    "    '''read a file and append numbers into a list'''\n",
    "    number_list = []\n",
    "    with open(filename) as f:\n",
    "        for line in f:\n",
    "            number_list.append(float(line))\n",
    "\n",
    "    return number_list\n",
    "\n",
    "# 对列表中的数据进行求和\n",
    "def cal_sum(number_list):\n",
    "    '''计算列表中的数字的和'''\n",
    "    total = sum(number_list)\n",
    "    return total\n",
    "\n",
    "# 开始计算\n",
    "if __name__ == \"__main__\":\n",
    "    num_list = read_file('mydata.txt')\n",
    "    sum_result = cal_sum(num_list)\n",
    "    print(\"The sum of the numbers in the file is {0}\".format(sum_result))"
   ]
  },
  {
   "cell_type": "markdown",
   "id": "8f9c41bd-9c3c-42bf-b374-a3d2d392e829",
   "metadata": {},
   "source": [
    "**从csv中读取数据**"
   ]
  },
  {
   "cell_type": "code",
   "execution_count": 31,
   "id": "cdf3a7d4-30b4-4226-8fde-7b22351b4952",
   "metadata": {},
   "outputs": [
    {
     "data": {
      "image/png": "[encoded data removed]",
      "text/plain": [
       "<Figure size 640x480 with 1 Axes>"
      ]
     },
     "metadata": {},
     "output_type": "display_data"
    }
   ],
   "source": [
    "import csv\n",
    "import matplotlib.pyplot as plt\n",
    "\n",
    "def scatter_plot(x, y):\n",
    "    plt.scatter(x, y)\n",
    "    plt.xlabel('Number')\n",
    "    plt.ylabel('Square')\n",
    "    plt.show()\n",
    "\n",
    "def read_csv(filename):\n",
    "    numbers = []\n",
    "    squared = []\n",
    "\n",
    "    with open(filename) as f:\n",
    "        reader = csv.reader(f)\n",
    "        next(reader)\n",
    "        for row in reader:\n",
    "            numbers.append(int(row[0]))\n",
    "            squared.append(int(row[1]))\n",
    "    return numbers, squared        \n",
    "\n",
    "if __name__ == \"__main__\":\n",
    "    numbers, squared = read_csv('numbers.csv')\n",
    "    scatter_plot(numbers, squared)"
   ]
  }
 ],
 "metadata": {
  "kernelspec": {
   "display_name": "Python 3 (ipykernel)",
   "language": "python",
   "name": "python3"
  },
  "language_info": {
   "codemirror_mode": {
    "name": "ipython",
    "version": 3
   },
   "file_extension": ".py",
   "mimetype": "text/x-python",
   "name": "python",
   "nbconvert_exporter": "python",
   "pygments_lexer": "ipython3",
   "version": "3.10.11"
  }
 },
 "nbformat": 4,
 "nbformat_minor": 5
}
