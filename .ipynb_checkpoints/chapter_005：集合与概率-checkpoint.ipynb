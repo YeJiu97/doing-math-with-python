{
 "cells": [
  {
   "cell_type": "markdown",
   "id": "10d0dcaf-8d9c-4671-aebb-a38f5fed47c4",
   "metadata": {},
   "source": [
    "# 什么是集合"
   ]
  },
  {
   "cell_type": "markdown",
   "id": "5db69190-845a-4d13-8316-4624078fc903",
   "metadata": {},
   "source": [
    "集合，简称集，是数学中一个基本概念，也是集合论的主要研究对象。集合是由某些确定的、不同对象的全体构成。这些对象被称为集合的元素。集合的三要素包括确定性、互异性和无序性。\r\n",
    "\r\n",
    "确定性是指对于一个给定的集合，集合中的元素是确定的，任何对象或者是该集合的元素，或者不是该集合的元素。互异性是指一个集合中的元素是不相同的，即每个元素都是唯一的。无序性是指集合中的元素没有固定的顺序，即集合是无序的。"
   ]
  }
 ],
 "metadata": {
  "kernelspec": {
   "display_name": "Python 3 (ipykernel)",
   "language": "python",
   "name": "python3"
  },
  "language_info": {
   "codemirror_mode": {
    "name": "ipython",
    "version": 3
   },
   "file_extension": ".py",
   "mimetype": "text/x-python",
   "name": "python",
   "nbconvert_exporter": "python",
   "pygments_lexer": "ipython3",
   "version": "3.10.11"
  }
 },
 "nbformat": 4,
 "nbformat_minor": 5
}
