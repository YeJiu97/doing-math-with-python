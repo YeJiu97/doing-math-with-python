{
 "cells": [
  {
   "cell_type": "markdown",
   "id": "3b1b93f7-eb98-48f1-95c9-9be45e0f5e61",
   "metadata": {},
   "source": [
    "# 简单计算"
   ]
  },
  {
   "cell_type": "code",
   "execution_count": 1,
   "id": "74d69232-7557-453e-83be-78b1dae7f6e5",
   "metadata": {},
   "outputs": [
    {
     "data": {
      "text/plain": [
       "2"
      ]
     },
     "execution_count": 1,
     "metadata": {},
     "output_type": "execute_result"
    }
   ],
   "source": [
    "1 + 1"
   ]
  },
  {
   "cell_type": "code",
   "execution_count": 2,
   "id": "9dd6a391-9841-43c1-951f-96035bc1c5ea",
   "metadata": {},
   "outputs": [
    {
     "data": {
      "text/plain": [
       "-1"
      ]
     },
     "execution_count": 2,
     "metadata": {},
     "output_type": "execute_result"
    }
   ],
   "source": [
    "1 - 2"
   ]
  },
  {
   "cell_type": "code",
   "execution_count": 3,
   "id": "2c3ab880-b954-4d59-8475-99c4025856e9",
   "metadata": {},
   "outputs": [
    {
     "data": {
      "text/plain": [
       "2.0"
      ]
     },
     "execution_count": 3,
     "metadata": {},
     "output_type": "execute_result"
    }
   ],
   "source": [
    "1 + 1.0"
   ]
  },
  {
   "cell_type": "code",
   "execution_count": 4,
   "id": "a12a16f7-42f1-40a3-886a-fd57e120c893",
   "metadata": {},
   "outputs": [
    {
     "data": {
      "text/plain": [
       "16"
      ]
     },
     "execution_count": 4,
     "metadata": {},
     "output_type": "execute_result"
    }
   ],
   "source": [
    "4 * 4"
   ]
  },
  {
   "cell_type": "code",
   "execution_count": 5,
   "id": "6d2df079-ba94-4254-929e-a51d842e44be",
   "metadata": {},
   "outputs": [
    {
     "data": {
      "text/plain": [
       "256"
      ]
     },
     "execution_count": 5,
     "metadata": {},
     "output_type": "execute_result"
    }
   ],
   "source": [
    "4 ** 4"
   ]
  },
  {
   "cell_type": "code",
   "execution_count": 6,
   "id": "00f5b7ee-b606-4fb2-a9a0-d61cd2940211",
   "metadata": {},
   "outputs": [
    {
     "data": {
      "text/plain": [
       "2.0"
      ]
     },
     "execution_count": 6,
     "metadata": {},
     "output_type": "execute_result"
    }
   ],
   "source": [
    "4 / 2"
   ]
  },
  {
   "cell_type": "code",
   "execution_count": 7,
   "id": "9bb3ca79-7997-41ac-aa3c-0c51e29b7a53",
   "metadata": {},
   "outputs": [
    {
     "data": {
      "text/plain": [
       "1"
      ]
     },
     "execution_count": 7,
     "metadata": {},
     "output_type": "execute_result"
    }
   ],
   "source": [
    "4 % 3"
   ]
  },
  {
   "cell_type": "code",
   "execution_count": 8,
   "id": "2c5a5a8c-ae0e-414c-b724-62df9ac2f4f3",
   "metadata": {},
   "outputs": [
    {
     "data": {
      "text/plain": [
       "3"
      ]
     },
     "execution_count": 8,
     "metadata": {},
     "output_type": "execute_result"
    }
   ],
   "source": [
    "10 // 3"
   ]
  },
  {
   "cell_type": "code",
   "execution_count": 9,
   "id": "e22398d2-d972-4eaf-8e86-c76baf5119ad",
   "metadata": {},
   "outputs": [
    {
     "data": {
      "text/plain": [
       "-4"
      ]
     },
     "execution_count": 9,
     "metadata": {},
     "output_type": "execute_result"
    }
   ],
   "source": [
    "-10 // 3"
   ]
  },
  {
   "cell_type": "markdown",
   "id": "e22beb65-e50a-45d4-a033-c71448f40b73",
   "metadata": {},
   "source": [
    "// 获得的是商，但是是向下取整之后的商。"
   ]
  },
  {
   "cell_type": "code",
   "execution_count": 10,
   "id": "94334687-c55f-4836-a2fa-70e5b70fa8ff",
   "metadata": {},
   "outputs": [
    {
     "data": {
      "text/plain": [
       "2.0"
      ]
     },
     "execution_count": 10,
     "metadata": {},
     "output_type": "execute_result"
    }
   ],
   "source": [
    "# 首先计算括号内的\n",
    "\n",
    "8 ** (1 / 3)"
   ]
  },
  {
   "cell_type": "markdown",
   "id": "85c3a3cc-8bf3-45ca-ad1d-b922c63f5518",
   "metadata": {},
   "source": [
    "# 给数字命名"
   ]
  },
  {
   "cell_type": "markdown",
   "id": "af37334d-0655-4249-80ed-6fc4aa8d6f3a",
   "metadata": {},
   "source": [
    "当需要进行较多的操作的时候，需要给数字命名："
   ]
  },
  {
   "cell_type": "code",
   "execution_count": 11,
   "id": "a7416aca-820e-40b1-bba7-9fd9b89be6dd",
   "metadata": {},
   "outputs": [],
   "source": [
    "num_01 = 10  # 将 10 赋值给 num_01"
   ]
  },
  {
   "cell_type": "code",
   "execution_count": 12,
   "id": "17a132de-a89e-4b68-8272-39241e46b52f",
   "metadata": {},
   "outputs": [
    {
     "data": {
      "text/plain": [
       "22"
      ]
     },
     "execution_count": 12,
     "metadata": {},
     "output_type": "execute_result"
    }
   ],
   "source": [
    "num_01 + 12"
   ]
  },
  {
   "cell_type": "markdown",
   "id": "c65ebb89-f266-473d-8f82-35d1413e8ee5",
   "metadata": {},
   "source": [
    "# 不同类型"
   ]
  },
  {
   "cell_type": "code",
   "execution_count": 13,
   "id": "99931f4e-8d2a-4224-8e08-e178431fe306",
   "metadata": {},
   "outputs": [
    {
     "data": {
      "text/plain": [
       "int"
      ]
     },
     "execution_count": 13,
     "metadata": {},
     "output_type": "execute_result"
    }
   ],
   "source": [
    "type(10)"
   ]
  },
  {
   "cell_type": "code",
   "execution_count": 14,
   "id": "f0a82a4b-ec36-4248-be0d-0ddcbe142a93",
   "metadata": {},
   "outputs": [
    {
     "data": {
      "text/plain": [
       "float"
      ]
     },
     "execution_count": 14,
     "metadata": {},
     "output_type": "execute_result"
    }
   ],
   "source": [
    "type(10.0)"
   ]
  },
  {
   "cell_type": "code",
   "execution_count": 15,
   "id": "fc812b31-e276-4cfe-918c-289334184d04",
   "metadata": {},
   "outputs": [
    {
     "data": {
      "text/plain": [
       "float"
      ]
     },
     "execution_count": 15,
     "metadata": {},
     "output_type": "execute_result"
    }
   ],
   "source": [
    "type(1.00000000000000000000000000000000000000000000000000000000)"
   ]
  },
  {
   "cell_type": "code",
   "execution_count": 16,
   "id": "9f4c0bea-9934-4130-afa7-7074eed7d130",
   "metadata": {},
   "outputs": [
    {
     "data": {
      "text/plain": [
       "float"
      ]
     },
     "execution_count": 16,
     "metadata": {},
     "output_type": "execute_result"
    }
   ],
   "source": [
    "type(1.22222222222222222222222222222222222222222222222222222222222222222222222222222222222222222)"
   ]
  },
  {
   "cell_type": "markdown",
   "id": "5c63c6e1-a994-4b7c-8551-c82746eaf9ea",
   "metadata": {},
   "source": [
    "可以进行类型转化："
   ]
  },
  {
   "cell_type": "code",
   "execution_count": 17,
   "id": "2cd3ffb1-7a2a-48b2-b339-03b34e93e55f",
   "metadata": {},
   "outputs": [
    {
     "data": {
      "text/plain": [
       "1"
      ]
     },
     "execution_count": 17,
     "metadata": {},
     "output_type": "execute_result"
    }
   ],
   "source": [
    "int(1.0)"
   ]
  },
  {
   "cell_type": "code",
   "execution_count": 19,
   "id": "21cbdaa5-7b25-4aec-b4c3-a1c566cf89d0",
   "metadata": {},
   "outputs": [
    {
     "data": {
      "text/plain": [
       "1"
      ]
     },
     "execution_count": 19,
     "metadata": {},
     "output_type": "execute_result"
    }
   ],
   "source": [
    "int(1.1)"
   ]
  },
  {
   "cell_type": "code",
   "execution_count": 20,
   "id": "4f4cb021-0b1b-4de5-8e04-fa365db94bc3",
   "metadata": {},
   "outputs": [
    {
     "data": {
      "text/plain": [
       "1"
      ]
     },
     "execution_count": 20,
     "metadata": {},
     "output_type": "execute_result"
    }
   ],
   "source": [
    "int(1.8)"
   ]
  },
  {
   "cell_type": "code",
   "execution_count": 21,
   "id": "c3e0fcde-d266-415d-915e-6c85244fcca4",
   "metadata": {},
   "outputs": [
    {
     "data": {
      "text/plain": [
       "1.0"
      ]
     },
     "execution_count": 21,
     "metadata": {},
     "output_type": "execute_result"
    }
   ],
   "source": [
    "float(1)"
   ]
  },
  {
   "cell_type": "markdown",
   "id": "98d02777-f1eb-48a3-9863-c811aa4bb4f8",
   "metadata": {},
   "source": [
    "# 分数的操作"
   ]
  },
  {
   "cell_type": "markdown",
   "id": "3829f457-c8d1-4c50-9f5c-4d0e74762391",
   "metadata": {},
   "source": [
    "需要使用 fractions 模块。"
   ]
  },
  {
   "cell_type": "code",
   "execution_count": 22,
   "id": "dcbb1071-489b-4589-83d7-ea9b1d5c36a0",
   "metadata": {},
   "outputs": [],
   "source": [
    "from fractions import Fraction"
   ]
  },
  {
   "cell_type": "code",
   "execution_count": 23,
   "id": "4e0f9141-3934-425b-9d02-e585ae377e30",
   "metadata": {},
   "outputs": [],
   "source": [
    "f = Fraction(3, 4)"
   ]
  },
  {
   "cell_type": "code",
   "execution_count": 24,
   "id": "dc9df1f6-6a88-443b-a70c-69afc6022104",
   "metadata": {},
   "outputs": [
    {
     "data": {
      "text/plain": [
       "Fraction(3, 4)"
      ]
     },
     "execution_count": 24,
     "metadata": {},
     "output_type": "execute_result"
    }
   ],
   "source": [
    "f"
   ]
  },
  {
   "cell_type": "code",
   "execution_count": 25,
   "id": "9b18b398-3dda-4d71-8359-ecee9b3bb908",
   "metadata": {},
   "outputs": [
    {
     "data": {
      "text/plain": [
       "fractions.Fraction"
      ]
     },
     "execution_count": 25,
     "metadata": {},
     "output_type": "execute_result"
    }
   ],
   "source": [
    "type(f)"
   ]
  },
  {
   "cell_type": "code",
   "execution_count": 26,
   "id": "34dcc4d8-93e1-4b34-8dc1-0cc8e07c8d58",
   "metadata": {},
   "outputs": [
    {
     "data": {
      "text/plain": [
       "Fraction(7, 4)"
      ]
     },
     "execution_count": 26,
     "metadata": {},
     "output_type": "execute_result"
    }
   ],
   "source": [
    "f + 1"
   ]
  },
  {
   "cell_type": "code",
   "execution_count": 27,
   "id": "e9fad348-bbfc-4cb1-a503-7f61490fdf8d",
   "metadata": {},
   "outputs": [
    {
     "data": {
      "text/plain": [
       "Fraction(25, 12)"
      ]
     },
     "execution_count": 27,
     "metadata": {},
     "output_type": "execute_result"
    }
   ],
   "source": [
    "f + Fraction(4, 3)"
   ]
  },
  {
   "cell_type": "code",
   "execution_count": 28,
   "id": "d02f9e3f-c3ee-4478-82e2-6878dd668a99",
   "metadata": {},
   "outputs": [
    {
     "data": {
      "text/plain": [
       "Fraction(3, 4)"
      ]
     },
     "execution_count": 28,
     "metadata": {},
     "output_type": "execute_result"
    }
   ],
   "source": [
    "f"
   ]
  },
  {
   "cell_type": "code",
   "execution_count": 29,
   "id": "bc49cc1a-972e-4938-a1d5-aa435e0ca8c9",
   "metadata": {},
   "outputs": [
    {
     "data": {
      "text/plain": [
       "2.0"
      ]
     },
     "execution_count": 29,
     "metadata": {},
     "output_type": "execute_result"
    }
   ],
   "source": [
    "Fraction(3, 4) + 1.25"
   ]
  },
  {
   "cell_type": "code",
   "execution_count": 30,
   "id": "c13f8313-6d51-48de-b48b-c6136923b8e2",
   "metadata": {},
   "outputs": [
    {
     "data": {
      "text/plain": [
       "Fraction(7, 4)"
      ]
     },
     "execution_count": 30,
     "metadata": {},
     "output_type": "execute_result"
    }
   ],
   "source": [
    "Fraction(3, 4)  + 1"
   ]
  },
  {
   "cell_type": "markdown",
   "id": "5162768e-7c8b-46a0-8747-3e2ab4609b7c",
   "metadata": {},
   "source": [
    "# 复数"
   ]
  },
  {
   "cell_type": "markdown",
   "id": "ab590e77-ee38-474e-ba91-5985b86fd7aa",
   "metadata": {},
   "source": [
    "复数是一种用实数和单位虚数表示的数学对象，它的代数形式为 z=a+bi，其中 a 是实部，b 是虚部。复数的加法运算是将两个复数的实部和虚部相加，即 $z_1+z_2=z_1+z_2+a+bi+b+i=z_1+z_2+a+b+i$。\r\n",
    "\r\n",
    "我们可以通过旋转向量来理解复数。假设有一个向量 OA，我们将其旋转 θ 角度后得到向量 OB。那么，我们可以将这个旋转过程表示为一个复$数 z = cos(θ) + isin($θ)。这里的 cos(θ) 和 isin(θ) 分别表示向量在 x 和 y 轴上的分量。"
   ]
  },
  {
   "cell_type": "markdown",
   "id": "a3a67a1f-5dbb-48a9-9d61-f236b0122259",
   "metadata": {},
   "source": [
    "虚数是一种数学概念，主要用于描述振动和波动现象以及解析函数。例如，一切周期性的运动、场的传播行为、具有波粒二象性的粒子的行为都与振动和波动相关，这些现象都可以用复数来描述。\r\n",
    "\r\n",
    "虚数的创立者，17世纪著名数学家笛卡尔曾认为虚数是不存在的数字。然而，随着数学的发展，虚数在物理学等许多领域发挥了重要作用，并被广泛接受和应用。实际上，虚数可以对应平面上的点(a,b)，其中实部a对应横轴，虚部b对应纵轴。\r\n",
    "\r\n",
    "此外，从旋转操作的角度看，虚数具有明确的现实意义。例如，如果我们在复平面上建立一个点1，并希望它逆时针旋转90度，只需乘以虚数i。如果再次旋转90度，则再乘以i。经过两次旋转后，原本的点1会转回原位，显示出虚数i的特性。"
   ]
  },
  {
   "cell_type": "code",
   "execution_count": 31,
   "id": "484862d7-344d-48e5-99df-4bf38e1383ec",
   "metadata": {},
   "outputs": [],
   "source": [
    "a = 2 + 3j"
   ]
  },
  {
   "cell_type": "code",
   "execution_count": 32,
   "id": "427b214e-e192-4bbb-9eef-8de10dc72418",
   "metadata": {},
   "outputs": [
    {
     "data": {
      "text/plain": [
       "(2+3j)"
      ]
     },
     "execution_count": 32,
     "metadata": {},
     "output_type": "execute_result"
    }
   ],
   "source": [
    "a"
   ]
  },
  {
   "cell_type": "code",
   "execution_count": 33,
   "id": "b27a7c17-8fb9-4f7e-b0b2-af07e26b818c",
   "metadata": {},
   "outputs": [
    {
     "data": {
      "text/plain": [
       "complex"
      ]
     },
     "execution_count": 33,
     "metadata": {},
     "output_type": "execute_result"
    }
   ],
   "source": [
    "type(a)"
   ]
  },
  {
   "cell_type": "markdown",
   "id": "a06d7301-c8a2-49c0-84f7-5f9f0d15f6b2",
   "metadata": {},
   "source": [
    "或者可以使用 complext() 函数："
   ]
  },
  {
   "cell_type": "code",
   "execution_count": 34,
   "id": "f1ab387a-9136-4cd4-a0fb-301450f1d452",
   "metadata": {},
   "outputs": [],
   "source": [
    "b = complex(2, 3)  # 第一个参数是实数部分，第二个则是复数的部分"
   ]
  },
  {
   "cell_type": "code",
   "execution_count": 35,
   "id": "5e0e4280-57cc-4c1c-b16a-97ccf2914bc0",
   "metadata": {},
   "outputs": [
    {
     "data": {
      "text/plain": [
       "(2+3j)"
      ]
     },
     "execution_count": 35,
     "metadata": {},
     "output_type": "execute_result"
    }
   ],
   "source": [
    "b"
   ]
  },
  {
   "cell_type": "code",
   "execution_count": 36,
   "id": "773012a5-c84d-4600-b8a7-1a57a1863157",
   "metadata": {},
   "outputs": [
    {
     "data": {
      "text/plain": [
       "complex"
      ]
     },
     "execution_count": 36,
     "metadata": {},
     "output_type": "execute_result"
    }
   ],
   "source": [
    "type(b)"
   ]
  },
  {
   "cell_type": "markdown",
   "id": "8e5355d5-16c2-4707-807e-ef2f4327c095",
   "metadata": {},
   "source": [
    "复数可以进行加减乘除："
   ]
  },
  {
   "cell_type": "code",
   "execution_count": 37,
   "id": "9a974632-8eee-497f-ba99-f8d129be0e3c",
   "metadata": {},
   "outputs": [
    {
     "data": {
      "text/plain": [
       "(4+6j)"
      ]
     },
     "execution_count": 37,
     "metadata": {},
     "output_type": "execute_result"
    }
   ],
   "source": [
    "a + b"
   ]
  },
  {
   "cell_type": "code",
   "execution_count": 38,
   "id": "eef6943c-fdc8-4c23-97c4-f5743aa7eac3",
   "metadata": {},
   "outputs": [
    {
     "data": {
      "text/plain": [
       "0j"
      ]
     },
     "execution_count": 38,
     "metadata": {},
     "output_type": "execute_result"
    }
   ],
   "source": [
    "a - b"
   ]
  },
  {
   "cell_type": "code",
   "execution_count": 39,
   "id": "e0095c19-3adb-4768-9bb1-cfcf010c30c2",
   "metadata": {},
   "outputs": [
    {
     "data": {
      "text/plain": [
       "(-5+12j)"
      ]
     },
     "execution_count": 39,
     "metadata": {},
     "output_type": "execute_result"
    }
   ],
   "source": [
    "a * b"
   ]
  },
  {
   "cell_type": "code",
   "execution_count": 40,
   "id": "070c593e-3b79-4d3c-8b39-e8eeecf2f728",
   "metadata": {},
   "outputs": [
    {
     "data": {
      "text/plain": [
       "(0.6075666647314784-0.308756018097902j)"
      ]
     },
     "execution_count": 40,
     "metadata": {},
     "output_type": "execute_result"
    }
   ],
   "source": [
    "a ** b"
   ]
  },
  {
   "cell_type": "markdown",
   "id": "a294022d-53c6-4a9b-b04b-866ccf846d14",
   "metadata": {},
   "source": [
    "查看不同的部分："
   ]
  },
  {
   "cell_type": "code",
   "execution_count": 41,
   "id": "adc35d73-3aca-4a4e-a5ff-8c36b35a49cf",
   "metadata": {},
   "outputs": [
    {
     "data": {
      "text/plain": [
       "2.0"
      ]
     },
     "execution_count": 41,
     "metadata": {},
     "output_type": "execute_result"
    }
   ],
   "source": [
    "a.real"
   ]
  },
  {
   "cell_type": "code",
   "execution_count": 43,
   "id": "373e9785-3e0d-400a-aa2b-157eed1b38f0",
   "metadata": {},
   "outputs": [
    {
     "data": {
      "text/plain": [
       "3.0"
      ]
     },
     "execution_count": 43,
     "metadata": {},
     "output_type": "execute_result"
    }
   ],
   "source": [
    "a.imag"
   ]
  },
  {
   "cell_type": "markdown",
   "id": "53adfb71-e8e3-4543-a6dd-215af0d4388f",
   "metadata": {},
   "source": [
    "序数的共轭具有相同的实部，但是具有相同大小的和相反符号的虚部，可以使用conjugate()函数来获得："
   ]
  },
  {
   "cell_type": "markdown",
   "id": "87310926-9597-4722-8762-d7b19520b12c",
   "metadata": {},
   "source": [
    "复数的共轭是一种数学概念，如果一个复数的两个实部相等，而虚部互为相反数，那么这两个复数就被称为共轭复数。例如，复数z的共轭复数记作$zˊ$。 \r\n",
    "\r\n",
    "具体到复数里，「共轭」就是「实部相同，虚部相反」的意思。这种关系在多项式的根中很常见，例如：多项式的根中往往有满足这种关系的根。此外，在实际的电力系统中，用相量计算复功率的公式也是通过电压相量乘以电流相量的共轭来得到的。\r\n",
    "\r\n",
    "总的来说，共轭复数是复数理论中的一个重要概念，不仅有助于我们更好地理解和操作复数，而且在解决实际问题时也起着关键的作用。"
   ]
  },
  {
   "cell_type": "code",
   "execution_count": 45,
   "id": "32865ef5-9913-4fb3-9fa8-14b4cbc31105",
   "metadata": {},
   "outputs": [
    {
     "data": {
      "text/plain": [
       "(2-3j)"
      ]
     },
     "execution_count": 45,
     "metadata": {},
     "output_type": "execute_result"
    }
   ],
   "source": [
    "b.conjugate()"
   ]
  },
  {
   "cell_type": "markdown",
   "id": "dac92238-71fd-4177-9807-dcfcfad08114",
   "metadata": {},
   "source": [
    "如何计算复数的模：\n",
    "\n",
    "复数的模是描述复数在复平面上对应点到原点距离的概念，其计算公式为：$r=√（a^2+b^2）$。其中，a表示复数的实部，b表示复数的虚部，r表示复数的模。\r\n",
    "\r\n",
    "这个计算过程直观地反映了复数的几何特性。例如，当两个复数相乘时，它们的模相乘，并且它们的幅角相加。同样，当我们讨论复数的模时，我们不再仅仅看它由实部和虚部构成，而是直接将其视为一个整体——复数本身。\r\n",
    "\r\n",
    "此外，复数的模具有一些重要的性质。例如，对于任意两个复数z1和z2，如果它们的模$相等，即∣z1∣=$∣z2∣，那么这两个复数的加法、减法、乘法和除法仍然会得到另一个模相等的复数。这些性质使得我们可以利用复数的模来研究和解决问题。"
   ]
  },
  {
   "cell_type": "code",
   "execution_count": 46,
   "id": "4ffdeb59-018a-4ed2-b6b6-bf79385bb3bd",
   "metadata": {},
   "outputs": [
    {
     "data": {
      "text/plain": [
       "3.605551275463989"
      ]
     },
     "execution_count": 46,
     "metadata": {},
     "output_type": "execute_result"
    }
   ],
   "source": [
    "abs(a)"
   ]
  },
  {
   "cell_type": "markdown",
   "id": "6c082566-9aa2-4fc3-83eb-6321149d2912",
   "metadata": {},
   "source": [
    "标准库cmath提供了不少相关的函数，其中c表示复数。"
   ]
  },
  {
   "cell_type": "markdown",
   "id": "003f51cb-6509-4831-ab5d-cfc3a3d8d396",
   "metadata": {},
   "source": [
    "# 获得用户输入"
   ]
  },
  {
   "cell_type": "markdown",
   "id": "07ed109b-b8b5-4d03-b3eb-1c40846bfe35",
   "metadata": {},
   "source": [
    "可以使用input()函数来获得用户的输入，但是得到的结果其实是 string，所以需要进行转换。"
   ]
  },
  {
   "cell_type": "code",
   "execution_count": 47,
   "id": "0e16f5eb-5b2b-4412-8244-81fb9c4ba757",
   "metadata": {},
   "outputs": [
    {
     "name": "stdin",
     "output_type": "stream",
     "text": [
      " 123\n"
     ]
    },
    {
     "data": {
      "text/plain": [
       "str"
      ]
     },
     "execution_count": 47,
     "metadata": {},
     "output_type": "execute_result"
    }
   ],
   "source": [
    "a = input()\n",
    "type(a)"
   ]
  },
  {
   "cell_type": "code",
   "execution_count": 48,
   "id": "634113c4-37a1-433f-a66d-c6b247413b8e",
   "metadata": {},
   "outputs": [
    {
     "name": "stdin",
     "output_type": "stream",
     "text": [
      " 123654789\n"
     ]
    },
    {
     "data": {
      "text/plain": [
       "int"
      ]
     },
     "execution_count": 48,
     "metadata": {},
     "output_type": "execute_result"
    }
   ],
   "source": [
    "b = int(input())\n",
    "type(b)"
   ]
  },
  {
   "cell_type": "code",
   "execution_count": 49,
   "id": "a6b34f4c-00d4-4c67-a183-6189ca7b694a",
   "metadata": {},
   "outputs": [
    {
     "name": "stdin",
     "output_type": "stream",
     "text": [
      " 123.01\n"
     ]
    },
    {
     "data": {
      "text/plain": [
       "float"
      ]
     },
     "execution_count": 49,
     "metadata": {},
     "output_type": "execute_result"
    }
   ],
   "source": [
    "c = float(input())\n",
    "type(c)"
   ]
  },
  {
   "cell_type": "markdown",
   "id": "a2715e0c-c02b-4318-bf5a-5c8f42fe6d4d",
   "metadata": {},
   "source": [
    "考虑到可能需要输入int或者float，结果获得了string的情况，需要进行异常处理："
   ]
  },
  {
   "cell_type": "code",
   "execution_count": 50,
   "id": "9f04ab32-4615-4827-86de-f17de188d48c",
   "metadata": {},
   "outputs": [
    {
     "name": "stdin",
     "output_type": "stream",
     "text": [
      "Enter a number rather than a string:  string_value\n"
     ]
    },
    {
     "name": "stdout",
     "output_type": "stream",
     "text": [
      "Your entered an invalid number!\n"
     ]
    }
   ],
   "source": [
    "try:\n",
    "    error_input = float(input(\"Enter a number rather than a string: \"))\n",
    "except ValueError:\n",
    "    print(\"Your entered an invalid number!\")"
   ]
  },
  {
   "cell_type": "code",
   "execution_count": 51,
   "id": "ca289ad4-09f9-4d47-b3cb-f3090361a86c",
   "metadata": {},
   "outputs": [
    {
     "data": {
      "text/plain": [
       "False"
      ]
     },
     "execution_count": 51,
     "metadata": {},
     "output_type": "execute_result"
    }
   ],
   "source": [
    "1.1.is_integer()"
   ]
  },
  {
   "cell_type": "markdown",
   "id": "c3154785-4bc7-47a9-9230-436387ad6b35",
   "metadata": {},
   "source": [
    "接着需要考虑输入分数的情况："
   ]
  },
  {
   "cell_type": "code",
   "execution_count": 52,
   "id": "04c83505-9d68-4746-948f-97ce1f5dae41",
   "metadata": {},
   "outputs": [
    {
     "name": "stdin",
     "output_type": "stream",
     "text": [
      "Enter a fraction:  3/4\n"
     ]
    },
    {
     "name": "stdout",
     "output_type": "stream",
     "text": [
      "3/4\n"
     ]
    }
   ],
   "source": [
    "a = Fraction(input('Enter a fraction: '))\n",
    "print(a)"
   ]
  },
  {
   "cell_type": "markdown",
   "id": "ee5ce808-869d-41cc-bbab-4018e2fc1310",
   "metadata": {},
   "source": [
    "一种可能的异常：分母为0。"
   ]
  },
  {
   "cell_type": "code",
   "execution_count": 53,
   "id": "7d854002-cd35-4c72-897d-2fcb528b3d00",
   "metadata": {},
   "outputs": [
    {
     "name": "stdin",
     "output_type": "stream",
     "text": [
      "Enter a Fraction, can not be divided by 0:  3/0\n"
     ]
    },
    {
     "name": "stdout",
     "output_type": "stream",
     "text": [
      "Can not be divided by zero!\n"
     ]
    }
   ],
   "source": [
    "try:\n",
    "    b = Fraction(input(\"Enter a Fraction, can not be divided by 0: \"))\n",
    "except ZeroDivisionError:\n",
    "    print(\"Can not be divided by zero!\")"
   ]
  },
  {
   "cell_type": "markdown",
   "id": "d62481fc-f575-4e1a-9687-60e79d8b15d9",
   "metadata": {},
   "source": [
    "同理，还有complex，复数："
   ]
  },
  {
   "cell_type": "code",
   "execution_count": 54,
   "id": "7f316ba2-e9ca-4ae4-a45d-a41a8893e786",
   "metadata": {},
   "outputs": [
    {
     "name": "stdin",
     "output_type": "stream",
     "text": [
      "Please enter a complex number:  ASDFSFASDFAFEER\n"
     ]
    },
    {
     "name": "stdout",
     "output_type": "stream",
     "text": [
      "It is not a complex.\n"
     ]
    }
   ],
   "source": [
    "try:\n",
    "    c = complex(input(\"Please enter a complex number: \"))\n",
    "except ValueError:\n",
    "    print(\"It is not a complex.\")"
   ]
  },
  {
   "cell_type": "markdown",
   "id": "610145d8-f2b2-4601-a340-1594832f911c",
   "metadata": {},
   "source": [
    "# 编写程序"
   ]
  },
  {
   "cell_type": "markdown",
   "id": "a45da600-7490-4a01-b51d-e83a38bf8a31",
   "metadata": {},
   "source": [
    "**正因子程序**"
   ]
  },
  {
   "cell_type": "markdown",
   "id": "6ae93cc1-1d67-4669-82ae-39f2e73213bc",
   "metadata": {},
   "source": [
    "判断一个数字是否能够被另一个数字整除，方法很简单：如果余数为0，则可以；反之，则不可以。"
   ]
  },
  {
   "cell_type": "code",
   "execution_count": 55,
   "id": "af8c0fdb-433e-4643-b32c-f59506db9e92",
   "metadata": {},
   "outputs": [],
   "source": [
    "def is_factor(a, b):\n",
    "    if b % a == 0:\n",
    "        return True\n",
    "    else:\n",
    "        return False"
   ]
  },
  {
   "cell_type": "code",
   "execution_count": 56,
   "id": "1646ec95-77e0-428f-9863-26911a39c4ec",
   "metadata": {},
   "outputs": [
    {
     "data": {
      "text/plain": [
       "True"
      ]
     },
     "execution_count": 56,
     "metadata": {},
     "output_type": "execute_result"
    }
   ],
   "source": [
    "is_factor(4, 1024)"
   ]
  },
  {
   "cell_type": "markdown",
   "id": "8f63fe3e-2e04-48e0-9a40-87bcf2c21559",
   "metadata": {},
   "source": [
    "接着我们来查找一个数字的所有正因子："
   ]
  },
  {
   "cell_type": "code",
   "execution_count": 58,
   "id": "7188217d-756f-423d-85b2-a253d61db36e",
   "metadata": {},
   "outputs": [
    {
     "name": "stdout",
     "output_type": "stream",
     "text": [
      "1\n",
      "2\n",
      "4\n",
      "8\n",
      "16\n",
      "32\n",
      "64\n",
      "128\n",
      "256\n",
      "512\n",
      "1024\n"
     ]
    }
   ],
   "source": [
    "for i in range(1, 1025):\n",
    "    if is_factor(i, 1024):\n",
    "        print(i)"
   ]
  },
  {
   "cell_type": "markdown",
   "id": "c8ebc7c0-f6bc-4efb-afcf-af72e1701ffd",
   "metadata": {},
   "source": [
    "for(1, 1025)意味着从1开始，但是在1025之前结束，而不是包括1025。"
   ]
  },
  {
   "cell_type": "code",
   "execution_count": 60,
   "id": "578fd38c-7302-4f4e-a5c4-d6f525d8c5f2",
   "metadata": {},
   "outputs": [
    {
     "name": "stdout",
     "output_type": "stream",
     "text": [
      "1\n",
      "3\n",
      "5\n",
      "7\n",
      "9\n"
     ]
    }
   ],
   "source": [
    "# 可以增加的第三个参数来限定每次迭代的步长\n",
    "for i in range(1, 10, 2):\n",
    "    print(i)"
   ]
  },
  {
   "cell_type": "markdown",
   "id": "37807cb6-7cfe-430f-b65a-36c337fffe4f",
   "metadata": {},
   "source": [
    "每次迭代的步长为2。"
   ]
  },
  {
   "cell_type": "markdown",
   "id": "c008e5cd-3815-4499-8915-24e546e5365e",
   "metadata": {},
   "source": [
    "**乘法口诀表程序**"
   ]
  },
  {
   "cell_type": "markdown",
   "id": "a5c0b15f-9306-4b29-b7c0-fe66013b76fe",
   "metadata": {},
   "source": [
    "编写一个更加复杂的乘法口诀表："
   ]
  },
  {
   "cell_type": "code",
   "execution_count": 81,
   "id": "b6f09446-82fa-4265-b773-15d45d58dc0d",
   "metadata": {},
   "outputs": [
    {
     "name": "stdin",
     "output_type": "stream",
     "text": [
      "请输入一个数字： 11\n"
     ]
    },
    {
     "name": "stdout",
     "output_type": "stream",
     "text": [
      "1x1=1\t\n",
      "1x2=2\t2x2=4\t\n",
      "1x3=3\t2x3=6\t3x3=9\t\n",
      "1x4=4\t2x4=8\t3x4=12\t4x4=16\t\n",
      "1x5=5\t2x5=10\t3x5=15\t4x5=20\t5x5=25\t\n",
      "1x6=6\t2x6=12\t3x6=18\t4x6=24\t5x6=30\t6x6=36\t\n",
      "1x7=7\t2x7=14\t3x7=21\t4x7=28\t5x7=35\t6x7=42\t7x7=49\t\n",
      "1x8=8\t2x8=16\t3x8=24\t4x8=32\t5x8=40\t6x8=48\t7x8=56\t8x8=64\t\n",
      "1x9=9\t2x9=18\t3x9=27\t4x9=36\t5x9=45\t6x9=54\t7x9=63\t8x9=72\t9x9=81\t\n",
      "1x10=10\t2x10=20\t3x10=30\t4x10=40\t5x10=50\t6x10=60\t7x10=70\t8x10=80\t9x10=90\t10x10=100\t\n",
      "1x11=11\t2x11=22\t3x11=33\t4x11=44\t5x11=55\t6x11=66\t7x11=77\t8x11=88\t9x11=99\t10x11=110\t11x11=121\t\n"
     ]
    }
   ],
   "source": [
    "def print_multiplication_table(n):\n",
    "    for i in range(1, n+1):\n",
    "        for j in range(1, i+1):\n",
    "            print(f\"{j}x{i}={i*j}\", end=\"\\t\")\n",
    "        print()\n",
    "\n",
    "num = int(input(\"请输入一个数字：\"))\n",
    "print_multiplication_table(num)"
   ]
  },
  {
   "cell_type": "markdown",
   "id": "e1ef7382-d046-47f8-a71c-969c4ea23c90",
   "metadata": {},
   "source": [
    "**正因子程序模块化**"
   ]
  },
  {
   "cell_type": "markdown",
   "id": "549bb584-efa6-4ad8-a744-698cbc4ffb2d",
   "metadata": {},
   "source": [
    "我们可以单独弄一个程序，命名为 all_positive_factor.py，内容如下所示："
   ]
  },
  {
   "cell_type": "code",
   "execution_count": 74,
   "id": "db896a33-ecfd-41d3-9fa2-2d9bad9ae157",
   "metadata": {},
   "outputs": [
    {
     "name": "stdin",
     "output_type": "stream",
     "text": [
      "Your Number Please:  10\n"
     ]
    },
    {
     "name": "stdout",
     "output_type": "stream",
     "text": [
      "1\n",
      "2\n",
      "5\n",
      "10\n"
     ]
    }
   ],
   "source": [
    "def factors(b):\n",
    "\n",
    "    for i in range(1, b+1):\n",
    "        if b % i == 0:\n",
    "            print(i)\n",
    "\n",
    "if __name__ == '__main__':\n",
    "\n",
    "    b = input('Your Number Please: ')\n",
    "    b = float(b)\n",
    "\n",
    "    if b > 0 and b.is_integer():\n",
    "        factors(int(b))\n",
    "    else:\n",
    "        print(\"Please enter a positive integer.\")"
   ]
  },
  {
   "cell_type": "markdown",
   "id": "dc554cea-2ad8-4b35-b2a4-aeb32be9b2a9",
   "metadata": {},
   "source": [
    "上面的代码中有一个特殊的函数：  if __name__ == '__main__'，这个函数的作用在于，如果这个代码被作为module导入到另一个代码中，那么当另一个代码被运行的时候，这个代码的 if __name__ == '__main__' 之下的部分不会被运行。"
   ]
  },
  {
   "cell_type": "markdown",
   "id": "f825466b-a61f-4d5f-ba6c-21b7fcce691a",
   "metadata": {},
   "source": [
    "接着我们来使用format()函数来让输出的结果更加的好读："
   ]
  },
  {
   "cell_type": "code",
   "execution_count": 75,
   "id": "bd0711f1-8c91-4316-9ec5-d5e4f2401dea",
   "metadata": {},
   "outputs": [
    {
     "name": "stdin",
     "output_type": "stream",
     "text": [
      "Please enter a string:  banana\n",
      "Please enter a string:  apple\n",
      "Please enter a string:  grapes\n"
     ]
    },
    {
     "name": "stdout",
     "output_type": "stream",
     "text": [
      "There are three items, they are banana and apple and grapes\n"
     ]
    }
   ],
   "source": [
    "item_01 = input(\"Please enter a string: \")\n",
    "item_02 = input(\"Please enter a string: \")\n",
    "item_03 = input(\"Please enter a string: \")\n",
    "\n",
    "print('There are three items, they are {0} and {1} and {2}'.format(item_01, item_02, item_03))"
   ]
  },
  {
   "cell_type": "markdown",
   "id": "0516bc6d-367f-4caa-ab10-650f842d9ebd",
   "metadata": {},
   "source": [
    "或者也可以采用另外一种方法，这种方法如果之后需要进行修改，会更加的方便："
   ]
  },
  {
   "cell_type": "code",
   "execution_count": 78,
   "id": "847e95c4-0d36-496f-993c-61e91f4f7277",
   "metadata": {},
   "outputs": [
    {
     "name": "stdout",
     "output_type": "stream",
     "text": [
      "There are three items, they are banana and apple and grapes\n"
     ]
    }
   ],
   "source": [
    "print(f'There are three items, they are {item_01} and {item_02} and {item_03}')"
   ]
  },
  {
   "cell_type": "markdown",
   "id": "dad06d70-0b4d-4143-aa16-2023a11aea2f",
   "metadata": {},
   "source": [
    "尝试只保留两位小数："
   ]
  },
  {
   "cell_type": "code",
   "execution_count": 84,
   "id": "4b2c88de-4091-4b5a-80d2-339ec3804b73",
   "metadata": {},
   "outputs": [
    {
     "name": "stdout",
     "output_type": "stream",
     "text": [
      "Only remains 2 float number: 1.26\n"
     ]
    }
   ],
   "source": [
    "print('Only remains 2 float number: {0:.2f}'.format(1.2556))"
   ]
  },
  {
   "cell_type": "code",
   "execution_count": 85,
   "id": "2f5b54ef-ba36-4c88-8b14-3baeeafc7c9d",
   "metadata": {},
   "outputs": [
    {
     "name": "stdout",
     "output_type": "stream",
     "text": [
      "Only remains 2 float number: 1.26\n"
     ]
    }
   ],
   "source": [
    "# 同理\n",
    "print(f\"Only remains 2 float number: {1.2556:.2f}\")"
   ]
  },
  {
   "cell_type": "markdown",
   "id": "24ee320d-a4b8-4d8c-9d5e-b650028b36ce",
   "metadata": {},
   "source": [
    "**单位转换**"
   ]
  },
  {
   "cell_type": "code",
   "execution_count": 89,
   "id": "36f01fee-01a3-4b9e-b33d-525f3706406c",
   "metadata": {},
   "outputs": [
    {
     "name": "stdin",
     "output_type": "stream",
     "text": [
      "请选择要转换的基本量（length/mass/time/temperature）： temperature\n",
      "请选择从temperature转换到哪个单位： sdf\n"
     ]
    },
    {
     "name": "stdout",
     "output_type": "stream",
     "text": [
      "输入的单位无效，请重新输入。\n"
     ]
    },
    {
     "name": "stdin",
     "output_type": "stream",
     "text": [
      "请选择从temperature转换到哪个单位： F\n"
     ]
    },
    {
     "name": "stdout",
     "output_type": "stream",
     "text": [
      "输入的单位无效，请重新输入。\n"
     ]
    },
    {
     "name": "stdin",
     "output_type": "stream",
     "text": [
      "请选择从temperature转换到哪个单位： F\n"
     ]
    },
    {
     "name": "stdout",
     "output_type": "stream",
     "text": [
      "输入的单位无效，请重新输入。\n"
     ]
    },
    {
     "name": "stdin",
     "output_type": "stream",
     "text": [
      "请选择从temperature转换到哪个单位： 1\n"
     ]
    },
    {
     "name": "stdout",
     "output_type": "stream",
     "text": [
      "输入的单位无效，请重新输入。\n"
     ]
    },
    {
     "name": "stdin",
     "output_type": "stream",
     "text": [
      "请选择从temperature转换到哪个单位： F\n"
     ]
    },
    {
     "name": "stdout",
     "output_type": "stream",
     "text": [
      "输入的单位无效，请重新输入。\n"
     ]
    },
    {
     "name": "stdin",
     "output_type": "stream",
     "text": [
      "请选择从temperature转换到哪个单位： k\n"
     ]
    },
    {
     "name": "stdout",
     "output_type": "stream",
     "text": [
      "输入的单位无效，请重新输入。\n"
     ]
    },
    {
     "name": "stdin",
     "output_type": "stream",
     "text": [
      "请选择从temperature转换到哪个单位： K\n",
      "请选择目标temperature单位： K\n",
      "请输入要转换的数字： 1\n"
     ]
    },
    {
     "name": "stdout",
     "output_type": "stream",
     "text": [
      "1.0 K 等于 1.00 K\n"
     ]
    }
   ],
   "source": [
    "# 定义基本量单位转换关系\n",
    "conversion_dict = {\n",
    "    'length': {'mm': 10, 'cm': 100, 'm': 1000, 'km': 1000000},\n",
    "    'mass': {'g': 1, 'kg': 1000, 'ton': 1000000},\n",
    "    'time': {'s': 1, 'min': 60, 'h': 3600},\n",
    "    'temperature': {'°C': 1, '°F': 1.8, 'K': 1}\n",
    "}\n",
    "\n",
    "# 要求用户选择要转换的基本量\n",
    "basic_quantity = input(\"请选择要转换的基本量（length/mass/time/temperature）：\")\n",
    "\n",
    "# 要求用户选择要转换的单位\n",
    "while True:\n",
    "    from_unit = input(f\"请选择从{basic_quantity}转换到哪个单位：\")\n",
    "    if from_unit in conversion_dict[basic_quantity]:\n",
    "        break\n",
    "    else:\n",
    "        print(\"输入的单位无效，请重新输入。\")\n",
    "\n",
    "while True:\n",
    "    to_unit = input(f\"请选择目标{basic_quantity}个单位：\")\n",
    "    if to_unit in conversion_dict[basic_quantity]:\n",
    "        break\n",
    "    else:\n",
    "        print(\"输入的单位无效，请重新输入。\")\n",
    "\n",
    "# 要求用户输入要转换的数字\n",
    "while True:\n",
    "    try:\n",
    "        number = float(input(f\"请输入要转换的数字：\"))\n",
    "        break\n",
    "    except ValueError:\n",
    "        print(\"输入的不是有效的数字，请重新输入。\")\n",
    "\n",
    "# 根据用户输入的信息进行单位转换\n",
    "result = number * conversion_dict[basic_quantity][from_unit] / conversion_dict[basic_quantity][to_unit]\n",
    "\n",
    "# 输出转换结果\n",
    "print(f\"{number} {from_unit} 等于 {result:.2f} {to_unit}\")"
   ]
  },
  {
   "cell_type": "markdown",
   "id": "d8b89e70-8197-4df5-83f7-c619e318b717",
   "metadata": {},
   "source": [
    "**二次方程的球根**"
   ]
  },
  {
   "cell_type": "code",
   "execution_count": 90,
   "id": "64252084-4b57-480c-a16a-79823186414f",
   "metadata": {},
   "outputs": [
    {
     "name": "stdin",
     "output_type": "stream",
     "text": [
      "请输入二次项系数a:  10\n",
      "请输入一次项系数b:  10\n",
      "请输入常数项系数c:  10\n"
     ]
    },
    {
     "name": "stdout",
     "output_type": "stream",
     "text": [
      "二次方程的球根为： (-0.5+0.8660254037844387j) 和 (-0.5-0.8660254037844387j)\n"
     ]
    }
   ],
   "source": [
    "import cmath\n",
    "\n",
    "def quadratic_roots(a, b, c):\n",
    "    delta = cmath.sqrt(b**2 - 4*a*c)\n",
    "    root1 = (-b + delta) / (2 * a)\n",
    "    root2 = (-b - delta) / (2 * a)\n",
    "    return root1, root2\n",
    "\n",
    "a = float(input(\"请输入二次项系数a: \"))\n",
    "b = float(input(\"请输入一次项系数b: \"))\n",
    "c = float(input(\"请输入常数项系数c: \"))\n",
    "\n",
    "root1, root2 = quadratic_roots(a, b, c)\n",
    "print(\"二次方程的球根为：\", root1, \"和\", root2)"
   ]
  },
  {
   "cell_type": "code",
   "execution_count": 91,
   "id": "c6163419-c598-4b23-9d4f-73dacd485ec1",
   "metadata": {},
   "outputs": [
    {
     "name": "stdin",
     "output_type": "stream",
     "text": [
      "请输入二次项系数a:  10\n",
      "请输入一次项系数b:  10\n",
      "请输入常数项系数c:  10\n"
     ]
    },
    {
     "name": "stdout",
     "output_type": "stream",
     "text": [
      "无实根\n"
     ]
    }
   ],
   "source": [
    "import math\n",
    "\n",
    "def quadratic_roots(a, b, c):\n",
    "    delta = b**2 - 4*a*c\n",
    "    if delta < 0:\n",
    "        return None\n",
    "    elif delta == 0:\n",
    "        return -b / (2 * a)\n",
    "    else:\n",
    "        sqrt_delta = math.sqrt(delta)\n",
    "        root1 = (-b + sqrt_delta) / (2 * a)\n",
    "        root2 = (-b - sqrt_delta) / (2 * a)\n",
    "        return root1, root2\n",
    "\n",
    "a = float(input(\"请输入二次项系数a: \"))\n",
    "b = float(input(\"请输入一次项系数b: \"))\n",
    "c = float(input(\"请输入常数项系数c: \"))\n",
    "\n",
    "result = quadratic_roots(a, b, c)\n",
    "if result is None:\n",
    "    print(\"无实根\")\n",
    "elif isinstance(result, tuple):\n",
    "    print(\"二次方程的球根为：\", result[0], \"和\", result[1])\n",
    "else:\n",
    "    print(\"二次方程的球根为：\", result)"
   ]
  },
  {
   "cell_type": "markdown",
   "id": "abc8645a-3c89-4059-b829-6a9054ba5907",
   "metadata": {},
   "source": [
    "# 编程挑战"
   ]
  },
  {
   "cell_type": "markdown",
   "id": "db3c9cfc-5d69-49d0-b34d-bc310f3c3e9a",
   "metadata": {},
   "source": [
    "**偶数奇数判断**"
   ]
  },
  {
   "cell_type": "code",
   "execution_count": 3,
   "id": "565b87f3-3909-49f6-80c0-bbd80e013a39",
   "metadata": {},
   "outputs": [
    {
     "name": "stdin",
     "output_type": "stream",
     "text": [
      " 1\n"
     ]
    },
    {
     "name": "stdout",
     "output_type": "stream",
     "text": [
      "输入的是一个奇数\n",
      "1\n",
      "3\n",
      "5\n",
      "7\n",
      "9\n",
      "11\n",
      "13\n",
      "15\n",
      "17\n",
      "19\n"
     ]
    }
   ],
   "source": [
    "input_number = int(input())\n",
    "\n",
    "if input_number % 2 == 0:\n",
    "    print('输入的是一个偶数')\n",
    "    flag = 1\n",
    "    while flag <= 10:\n",
    "        print(input_number)\n",
    "        input_number += 2\n",
    "        flag += 1\n",
    "else:\n",
    "    print('输入的是一个奇数')\n",
    "    flag = 1\n",
    "    while flag <= 10:\n",
    "        print(input_number)\n",
    "        input_number += 2\n",
    "        flag += 1"
   ]
  },
  {
   "cell_type": "markdown",
   "id": "6335ba08-9016-4e7b-bc57-6c2bba59f26e",
   "metadata": {},
   "source": [
    "**增强型乘法表生成器**"
   ]
  },
  {
   "cell_type": "code",
   "execution_count": 4,
   "id": "3ec591b2-189c-49bd-82a8-bff4e437b95f",
   "metadata": {},
   "outputs": [
    {
     "name": "stdin",
     "output_type": "stream",
     "text": [
      "请输入一个整数： 10\n"
     ]
    },
    {
     "name": "stdout",
     "output_type": "stream",
     "text": [
      "1 * 1 = 1\t\n",
      "1 * 2 = 2\t2 * 2 = 4\t\n",
      "1 * 3 = 3\t2 * 3 = 6\t3 * 3 = 9\t\n",
      "1 * 4 = 4\t2 * 4 = 8\t3 * 4 = 12\t4 * 4 = 16\t\n",
      "1 * 5 = 5\t2 * 5 = 10\t3 * 5 = 15\t4 * 5 = 20\t5 * 5 = 25\t\n",
      "1 * 6 = 6\t2 * 6 = 12\t3 * 6 = 18\t4 * 6 = 24\t5 * 6 = 30\t6 * 6 = 36\t\n",
      "1 * 7 = 7\t2 * 7 = 14\t3 * 7 = 21\t4 * 7 = 28\t5 * 7 = 35\t6 * 7 = 42\t7 * 7 = 49\t\n",
      "1 * 8 = 8\t2 * 8 = 16\t3 * 8 = 24\t4 * 8 = 32\t5 * 8 = 40\t6 * 8 = 48\t7 * 8 = 56\t8 * 8 = 64\t\n",
      "1 * 9 = 9\t2 * 9 = 18\t3 * 9 = 27\t4 * 9 = 36\t5 * 9 = 45\t6 * 9 = 54\t7 * 9 = 63\t8 * 9 = 72\t9 * 9 = 81\t\n",
      "1 * 10 = 10\t2 * 10 = 20\t3 * 10 = 30\t4 * 10 = 40\t5 * 10 = 50\t6 * 10 = 60\t7 * 10 = 70\t8 * 10 = 80\t9 * 10 = 90\t10 * 10 = 100\t\n"
     ]
    }
   ],
   "source": [
    "def 增强型乘法表生成器(n):\n",
    "    for i in range(1, n + 1):\n",
    "        for j in range(1, i + 1):\n",
    "            print(f\"{j} * {i} = {j * i}\", end=\"\\t\")\n",
    "        print()\n",
    "\n",
    "n = int(input(\"请输入一个整数：\"))\n",
    "增强型乘法表生成器(n)"
   ]
  },
  {
   "cell_type": "markdown",
   "id": "61c5cbef-bc9b-44d9-9b21-8280e1b83756",
   "metadata": {},
   "source": [
    "**增强型单位转换器**"
   ]
  },
  {
   "cell_type": "markdown",
   "id": "e8791a9e-e481-40db-a96c-600e9089ec53",
   "metadata": {},
   "source": [
    "之前已经实现了。"
   ]
  },
  {
   "cell_type": "markdown",
   "id": "7c0515b4-d3aa-4cd7-afeb-27f1d93e9af7",
   "metadata": {},
   "source": [
    "**分数计算器**"
   ]
  },
  {
   "cell_type": "code",
   "execution_count": 6,
   "id": "4ac5a568-28db-4c54-b505-e3bdca97b26d",
   "metadata": {},
   "outputs": [
    {
     "name": "stdout",
     "output_type": "stream",
     "text": [
      "分数相加： (23, 20)\n",
      "分数相减： (7, 20)\n",
      "分数相乘： (3, 10)\n",
      "分数相除： (15, 8)\n"
     ]
    }
   ],
   "source": [
    "def gcd(a, b):\n",
    "    while b:\n",
    "        a, b = b, a % b\n",
    "    return a\n",
    "\n",
    "def add_fraction(frac1, frac2):\n",
    "    numerator = frac1[0] * frac2[1] + frac1[1] * frac2[0]\n",
    "    denominator = frac1[1] * frac2[1]\n",
    "    common_divisor = gcd(numerator, denominator)\n",
    "    return numerator // common_divisor, denominator // common_divisor\n",
    "\n",
    "def subtract_fraction(frac1, frac2):\n",
    "    numerator = frac1[0] * frac2[1] - frac1[1] * frac2[0]\n",
    "    denominator = frac1[1] * frac2[1]\n",
    "    common_divisor = gcd(numerator, denominator)\n",
    "    return numerator // common_divisor, denominator // common_divisor\n",
    "\n",
    "def multiply_fraction(frac1, frac2):\n",
    "    numerator = frac1[0] * frac2[0]\n",
    "    denominator = frac1[1] * frac2[1]\n",
    "    common_divisor = gcd(numerator, denominator)\n",
    "    return numerator // common_divisor, denominator // common_divisor\n",
    "\n",
    "def divide_fraction(frac1, frac2):\n",
    "    numerator = frac1[0] * frac2[1]\n",
    "    denominator = frac1[1] * frac2[0]\n",
    "    common_divisor = gcd(numerator, denominator)\n",
    "    return numerator // common_divisor, denominator // common_divisor\n",
    "\n",
    "def main():\n",
    "    frac1 = (3, 4)\n",
    "    frac2 = (2, 5)\n",
    "    print(\"分数相加：\", add_fraction(frac1, frac2))\n",
    "    print(\"分数相减：\", subtract_fraction(frac1, frac2))\n",
    "    print(\"分数相乘：\", multiply_fraction(frac1, frac2))\n",
    "    print(\"分数相除：\", divide_fraction(frac1, frac2))\n",
    "\n",
    "if __name__ == \"__main__\":\n",
    "    main()"
   ]
  }
 ],
 "metadata": {
  "kernelspec": {
   "display_name": "Python 3 (ipykernel)",
   "language": "python",
   "name": "python3"
  },
  "language_info": {
   "codemirror_mode": {
    "name": "ipython",
    "version": 3
   },
   "file_extension": ".py",
   "mimetype": "text/x-python",
   "name": "python",
   "nbconvert_exporter": "python",
   "pygments_lexer": "ipython3",
   "version": "3.10.11"
  }
 },
 "nbformat": 4,
 "nbformat_minor": 5
}
