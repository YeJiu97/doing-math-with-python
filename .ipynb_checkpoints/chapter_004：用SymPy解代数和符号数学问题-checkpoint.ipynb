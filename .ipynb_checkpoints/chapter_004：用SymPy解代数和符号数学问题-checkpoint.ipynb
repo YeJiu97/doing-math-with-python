{
 "cells": [
  {
   "cell_type": "markdown",
   "id": "d868a9b3-a01f-4840-9b20-f4a19185cf40",
   "metadata": {},
   "source": [
    "# 定义符号和符号运算"
   ]
  },
  {
   "cell_type": "markdown",
   "id": "6e09e326-37f6-4705-99f7-9c71f15a43bc",
   "metadata": {},
   "source": [
    "符号是符号数学的基础。"
   ]
  },
  {
   "cell_type": "code",
   "execution_count": 1,
   "id": "afb51752-35b2-4395-98e2-e78a6c961b53",
   "metadata": {},
   "outputs": [
    {
     "data": {
      "text/plain": [
       "32"
      ]
     },
     "execution_count": 1,
     "metadata": {},
     "output_type": "execute_result"
    }
   ],
   "source": [
    "x = 10\n",
    "x + x + 12"
   ]
  },
  {
   "cell_type": "markdown",
   "id": "7fc4d011-43ec-4b0a-beb3-99b2f558ad4e",
   "metadata": {},
   "source": [
    "SymPy可以让人编写包含符号的表达式并且执行计算："
   ]
  },
  {
   "cell_type": "code",
   "execution_count": 2,
   "id": "e71e5cba-5e50-4d4e-a2e7-7bd6cbf3f9eb",
   "metadata": {},
   "outputs": [],
   "source": [
    "from sympy import Symbol\n",
    "x = Symbol('X')"
   ]
  },
  {
   "cell_type": "markdown",
   "id": "fb692d76-138d-46e5-a5d2-75a584f64a72",
   "metadata": {},
   "source": [
    "接着使用x进行计算："
   ]
  },
  {
   "cell_type": "code",
   "execution_count": 3,
   "id": "c49a7b65-6b5f-4a3d-8992-64d57c49a2f6",
   "metadata": {},
   "outputs": [
    {
     "data": {
      "text/latex": [
       "$\\displaystyle 2 X + 1$"
      ],
      "text/plain": [
       "2*X + 1"
      ]
     },
     "execution_count": 3,
     "metadata": {},
     "output_type": "execute_result"
    }
   ],
   "source": [
    "x + x + 1"
   ]
  },
  {
   "cell_type": "markdown",
   "id": "efa0e50a-4002-476b-bd87-31595319e7b1",
   "metadata": {},
   "source": [
    "如何查看x这个符号的赋值符号："
   ]
  },
  {
   "cell_type": "code",
   "execution_count": 4,
   "id": "760e5d41-ecc8-4a50-92ce-b41b8229d998",
   "metadata": {},
   "outputs": [
    {
     "data": {
      "text/plain": [
       "'X'"
      ]
     },
     "execution_count": 4,
     "metadata": {},
     "output_type": "execute_result"
    }
   ],
   "source": [
    "x.name"
   ]
  },
  {
   "cell_type": "markdown",
   "id": "b99b0f11-6178-4e0c-aeac-b3ee3431bf19",
   "metadata": {},
   "source": [
    "同时定义多个符号："
   ]
  },
  {
   "cell_type": "code",
   "execution_count": 5,
   "id": "eaf8138d-4675-4d48-8e82-1b041ec78ff7",
   "metadata": {},
   "outputs": [],
   "source": [
    "from sympy import symbols\n",
    "x, y, z = symbols('x, y, z')"
   ]
  },
  {
   "cell_type": "code",
   "execution_count": 6,
   "id": "f6ea9e35-8fec-4fcf-b9f5-fc1b83a8b281",
   "metadata": {},
   "outputs": [
    {
     "data": {
      "text/latex": [
       "$\\displaystyle x$"
      ],
      "text/plain": [
       "x"
      ]
     },
     "execution_count": 6,
     "metadata": {},
     "output_type": "execute_result"
    }
   ],
   "source": [
    "x"
   ]
  },
  {
   "cell_type": "code",
   "execution_count": 7,
   "id": "46fce807-15bf-4689-ac6c-5157554e9fc3",
   "metadata": {},
   "outputs": [
    {
     "data": {
      "text/latex": [
       "$\\displaystyle y$"
      ],
      "text/plain": [
       "y"
      ]
     },
     "execution_count": 7,
     "metadata": {},
     "output_type": "execute_result"
    }
   ],
   "source": [
    "y"
   ]
  },
  {
   "cell_type": "code",
   "execution_count": 8,
   "id": "c9aff0bb-f415-45e0-bc51-cd34a076e840",
   "metadata": {},
   "outputs": [
    {
     "data": {
      "text/latex": [
       "$\\displaystyle z$"
      ],
      "text/plain": [
       "z"
      ]
     },
     "execution_count": 8,
     "metadata": {},
     "output_type": "execute_result"
    }
   ],
   "source": [
    "z"
   ]
  },
  {
   "cell_type": "code",
   "execution_count": 9,
   "id": "32688f6d-70ed-4c2e-a8db-d058b5ab0dd7",
   "metadata": {},
   "outputs": [
    {
     "data": {
      "text/latex": [
       "$\\displaystyle x + y$"
      ],
      "text/plain": [
       "x + y"
      ]
     },
     "execution_count": 9,
     "metadata": {},
     "output_type": "execute_result"
    }
   ],
   "source": [
    "x + y"
   ]
  },
  {
   "cell_type": "markdown",
   "id": "4fd26ac5-9a9e-44a3-a1bf-91ede2bea72d",
   "metadata": {},
   "source": [
    "SymPy会自动进行简单的加法和乘法运算："
   ]
  },
  {
   "cell_type": "code",
   "execution_count": 10,
   "id": "c7557fef-e8a2-4919-8202-87b600502e40",
   "metadata": {},
   "outputs": [
    {
     "data": {
      "text/latex": [
       "$\\displaystyle 2 x^{2}$"
      ],
      "text/plain": [
       "2*x**2"
      ]
     },
     "execution_count": 10,
     "metadata": {},
     "output_type": "execute_result"
    }
   ],
   "source": [
    "p = x * (x + x)\n",
    "p"
   ]
  },
  {
   "cell_type": "markdown",
   "id": "9472a25d-8215-45c6-8bbb-d5071cfce6bd",
   "metadata": {},
   "source": [
    "但是如果复杂一点儿，则需要使用表达式："
   ]
  },
  {
   "cell_type": "code",
   "execution_count": 11,
   "id": "27670762-3cc9-49d2-978b-01b0659137a2",
   "metadata": {},
   "outputs": [
    {
     "data": {
      "text/latex": [
       "$\\displaystyle \\left(x + 2\\right) \\left(x + 3\\right)$"
      ],
      "text/plain": [
       "(x + 2)*(x + 3)"
      ]
     },
     "execution_count": 11,
     "metadata": {},
     "output_type": "execute_result"
    }
   ],
   "source": [
    "p = (x + 2) * (x + 3)\n",
    "p"
   ]
  },
  {
   "cell_type": "markdown",
   "id": "f246e17f-2ca4-474f-a351-7888a9c7e5d8",
   "metadata": {},
   "source": [
    "可以发现SymPy只是自动简化最基本的表达式。"
   ]
  },
  {
   "cell_type": "markdown",
   "id": "2981b231-4449-4c49-8dec-0b72c642cbf6",
   "metadata": {},
   "source": [
    "# 使用表达式"
   ]
  },
  {
   "cell_type": "markdown",
   "id": "7e1ef2c0-85de-4be8-82b1-2bc744b70bc4",
   "metadata": {},
   "source": [
    "**分解和展开表达式**"
   ]
  },
  {
   "cell_type": "markdown",
   "id": "9863e303-46cb-42a0-828b-1f99c6c4d572",
   "metadata": {},
   "source": [
    "factor()函数分解表达式，而expand()函数展开表达式。"
   ]
  },
  {
   "cell_type": "code",
   "execution_count": 12,
   "id": "89345b00-006d-4f9e-907e-66327dc2ac05",
   "metadata": {},
   "outputs": [],
   "source": [
    "from sympy import Symbol\n",
    "\n",
    "x = Symbol('x')\n",
    "y = Symbol('y')"
   ]
  },
  {
   "cell_type": "code",
   "execution_count": 13,
   "id": "1f661439-282b-4e9a-9c7a-3ca5c3843e84",
   "metadata": {},
   "outputs": [
    {
     "data": {
      "text/latex": [
       "$\\displaystyle \\left(x - y\\right) \\left(x + y\\right)$"
      ],
      "text/plain": [
       "(x - y)*(x + y)"
      ]
     },
     "execution_count": 13,
     "metadata": {},
     "output_type": "execute_result"
    }
   ],
   "source": [
    "from sympy import factor\n",
    "expr = x**2 - y**2\n",
    "factor(expr)"
   ]
  },
  {
   "cell_type": "code",
   "execution_count": 14,
   "id": "c69abb73-5132-4334-9613-211064f53ea2",
   "metadata": {},
   "outputs": [
    {
     "data": {
      "text/latex": [
       "$\\displaystyle x^{2} - y^{2}$"
      ],
      "text/plain": [
       "x**2 - y**2"
      ]
     },
     "execution_count": 14,
     "metadata": {},
     "output_type": "execute_result"
    }
   ],
   "source": [
    "from sympy import expand\n",
    "factors = factor(expr)\n",
    "expand(factors)"
   ]
  },
  {
   "cell_type": "code",
   "execution_count": 15,
   "id": "02bb3683-3113-4e1f-8266-496f723edb6a",
   "metadata": {},
   "outputs": [
    {
     "data": {
      "text/latex": [
       "$\\displaystyle \\left(x + y\\right)^{3}$"
      ],
      "text/plain": [
       "(x + y)**3"
      ]
     },
     "execution_count": 15,
     "metadata": {},
     "output_type": "execute_result"
    }
   ],
   "source": [
    "expr = x**3 + 3 * x ** 2 * y + 3 * x * y ** 2 + y ** 3\n",
    "factors = factor(expr)\n",
    "factors"
   ]
  },
  {
   "cell_type": "code",
   "execution_count": 16,
   "id": "b3c172aa-5c87-4031-90e2-575ef69df0f7",
   "metadata": {},
   "outputs": [
    {
     "name": "stdout",
     "output_type": "stream",
     "text": [
      "(x + y)**3\n"
     ]
    }
   ],
   "source": [
    "print(factors)"
   ]
  },
  {
   "cell_type": "code",
   "execution_count": 17,
   "id": "facc37b9-9665-4f77-8e21-8db0c9a3a28c",
   "metadata": {},
   "outputs": [
    {
     "name": "stdout",
     "output_type": "stream",
     "text": [
      " 3      2          2    3\n",
      "x  + 3⋅x ⋅y + 3⋅x⋅y  + y \n"
     ]
    }
   ],
   "source": [
    "from sympy import pprint\n",
    "pprint(expr)"
   ]
  },
  {
   "cell_type": "markdown",
   "id": "7eee2858-fe64-4421-b097-a85d1aa603bd",
   "metadata": {},
   "source": [
    "**输出级数**"
   ]
  },
  {
   "cell_type": "code",
   "execution_count": 24,
   "id": "3fffade2-19ee-4a65-b054-890f76a07824",
   "metadata": {},
   "outputs": [
    {
     "name": "stdin",
     "output_type": "stream",
     "text": [
      "Enter the number of tearms you want in the series:  10\n"
     ]
    },
    {
     "name": "stdout",
     "output_type": "stream",
     "text": [
      "     2    3    4    5    6    7    8    9    10\n",
      "    x    x    x    x    x    x    x    x    x  \n",
      "x + ── + ── + ── + ── + ── + ── + ── + ── + ───\n",
      "    2    3    4    5    6    7    8    9     10\n"
     ]
    }
   ],
   "source": [
    "from sympy import Symbol, pprint, init_printing\n",
    "\n",
    "def print_series(n):\n",
    "    init_printing(order = 'rev-lex')\n",
    "    x = Symbol('x')\n",
    "    series = x\n",
    "    for i in range(2, n + 1):\n",
    "        series = series + (x**i) / i\n",
    "    pprint(series)\n",
    "\n",
    "if __name__ == '__main__':\n",
    "    n = input('Enter the number of tearms you want in the series: ')\n",
    "    print_series(int(n))"
   ]
  },
  {
   "cell_type": "markdown",
   "id": "5e45fe4c-9aa9-4836-ac42-ccee7d1390e9",
   "metadata": {},
   "source": [
    "使用subs()函数来将值代入："
   ]
  },
  {
   "cell_type": "code",
   "execution_count": 25,
   "id": "ea606e6c-1a11-4b8d-b48e-193fcaab9973",
   "metadata": {},
   "outputs": [],
   "source": [
    "expr = x * x + x * y + x * y + y * y\n",
    "res = expr.subs({x : 1, y : 2})"
   ]
  },
  {
   "cell_type": "code",
   "execution_count": 26,
   "id": "08bf32f0-5946-404a-ade0-ebfd18fad1e8",
   "metadata": {},
   "outputs": [
    {
     "data": {
      "image/png": "[encoded data removed]",
      "text/latex": [
       "$\\displaystyle 9$"
      ],
      "text/plain": [
       "9"
      ]
     },
     "execution_count": 26,
     "metadata": {},
     "output_type": "execute_result"
    }
   ],
   "source": [
    "res"
   ]
  },
  {
   "cell_type": "markdown",
   "id": "61157793-067d-41a1-bb0e-5f35762d4a45",
   "metadata": {},
   "source": [
    "接着我们可以将 $ x = 1 - y $ 带入到上述的表达式中："
   ]
  },
  {
   "cell_type": "code",
   "execution_count": 27,
   "id": "f2060578-7fc5-4479-a453-d29481852baf",
   "metadata": {},
   "outputs": [
    {
     "data": {
      "image/png": "[encoded data removed]",
      "text/latex": [
       "$\\displaystyle \\left(1 - y\\right)^{2} + 2 y \\left(1 - y\\right) + y^{2}$"
      ],
      "text/plain": [
       "       2                  2\n",
       "(1 - y)  + 2⋅y⋅(1 - y) + y "
      ]
     },
     "execution_count": 27,
     "metadata": {},
     "output_type": "execute_result"
    }
   ],
   "source": [
    "expr.subs({x:1-y})"
   ]
  },
  {
   "cell_type": "markdown",
   "id": "8728ff14-8f51-47ae-ae61-8fcc826a0c4e",
   "metadata": {},
   "source": [
    "但是等一下，这个表达式是否能够再简化一点儿呢？"
   ]
  },
  {
   "cell_type": "code",
   "execution_count": 28,
   "id": "e99c80bc-c771-4f47-9d20-7e0664a21840",
   "metadata": {},
   "outputs": [
    {
     "data": {
      "image/png": "[encoded data removed]",
      "text/latex": [
       "$\\displaystyle 1$"
      ],
      "text/plain": [
       "1"
      ]
     },
     "execution_count": 28,
     "metadata": {},
     "output_type": "execute_result"
    }
   ],
   "source": [
    "expr_subs = expr.subs({x : 1 - y})\n",
    "from sympy import simplify\n",
    "simplify(expr_subs)"
   ]
  },
  {
   "cell_type": "markdown",
   "id": "8110b086-3da4-4048-96c9-bfcd0144eb62",
   "metadata": {},
   "source": [
    "**将字符串转换为数学表达式**"
   ]
  },
  {
   "cell_type": "markdown",
   "id": "b7edc4f8-b0c4-4e93-abff-614c933405d6",
   "metadata": {},
   "source": [
    "我们希望能够有一个更加通用的程序，能够将用户提供的任何表达式转换为数学表达式。"
   ]
  },
  {
   "cell_type": "code",
   "execution_count": 40,
   "id": "48d1b7a8-7a22-45ad-b79c-fc233334a48a",
   "metadata": {},
   "outputs": [
    {
     "name": "stdin",
     "output_type": "stream",
     "text": [
      "Enter a mathematical expression:  x ** 2 + 3 * x + x ** 3 + 2 * x\n"
     ]
    },
    {
     "data": {
      "image/png": "[encoded data removed]",
      "text/latex": [
       "$\\displaystyle 5 x + x^{2} + x^{3}$"
      ],
      "text/plain": [
       "       2    3\n",
       "5⋅x + x  + x "
      ]
     },
     "execution_count": 40,
     "metadata": {},
     "output_type": "execute_result"
    }
   ],
   "source": [
    "from sympy import sympify\n",
    "expr = input(\"Enter a mathematical expression: \")\n",
    "expr = sympify(expr)\n",
    "expr"
   ]
  },
  {
   "cell_type": "code",
   "execution_count": 32,
   "id": "01eecc1e-19be-4ddc-b064-9f60041b08c3",
   "metadata": {},
   "outputs": [
    {
     "data": {
      "image/png": "[encoded data removed]",
      "text/latex": [
       "$\\displaystyle 10 x + 2 x^{2} + 2 x^{3}$"
      ],
      "text/plain": [
       "          2      3\n",
       "10⋅x + 2⋅x  + 2⋅x "
      ]
     },
     "execution_count": 32,
     "metadata": {},
     "output_type": "execute_result"
    }
   ],
   "source": [
    "2 * expr"
   ]
  },
  {
   "cell_type": "markdown",
   "id": "5937fbc9-a91c-4751-873e-d890acda683d",
   "metadata": {},
   "source": [
    "不过需要考虑非法输入的情况："
   ]
  },
  {
   "cell_type": "code",
   "execution_count": 44,
   "id": "3b29c40f-174f-417c-a0a6-62c28f238e1a",
   "metadata": {},
   "outputs": [
    {
     "name": "stdin",
     "output_type": "stream",
     "text": [
      "Enter a mathematical expression:  1234^%&^%*&^%*^%^\n"
     ]
    },
    {
     "name": "stdout",
     "output_type": "stream",
     "text": [
      "Invalid Input.\n"
     ]
    },
    {
     "data": {
      "text/plain": [
       "'1234^%&^%*&^%*^%^'"
      ]
     },
     "execution_count": 44,
     "metadata": {},
     "output_type": "execute_result"
    }
   ],
   "source": [
    "from sympy import sympify\n",
    "from sympy.core.sympify import SympifyError\n",
    "expr = input(\"Enter a mathematical expression: \")\n",
    "\n",
    "try:\n",
    "    expr = sympify(expr)\n",
    "except SympifyError:\n",
    "    print('Invalid Input.')\n",
    "expr"
   ]
  },
  {
   "cell_type": "markdown",
   "id": "e74c4d71-cbed-4af3-9211-69ccdc25ca88",
   "metadata": {},
   "source": [
    "**乘法表达式**"
   ]
  },
  {
   "cell_type": "markdown",
   "id": "9b3efcd3-a8f9-4892-8cad-21854495cf65",
   "metadata": {},
   "source": [
    "使用sympify()函数来编写一个程序，计算两个表达式的乘积："
   ]
  },
  {
   "cell_type": "code",
   "execution_count": 46,
   "id": "e4969f91-dfb0-463a-9a9a-0cc64da7e5bf",
   "metadata": {},
   "outputs": [
    {
     "name": "stdin",
     "output_type": "stream",
     "text": [
      "Enter the first expression:  x ** 2 + x * 2 + x\n",
      "Enter the second expression:  x ** 3 + x * 3 + x\n"
     ]
    },
    {
     "name": "stdout",
     "output_type": "stream",
     "text": [
      "x**5 + 3*x**4 + 4*x**3 + 12*x**2\n"
     ]
    }
   ],
   "source": [
    "from sympy import expand, sympify\n",
    "from sympy.core.sympify import SympifyError\n",
    "\n",
    "def product(expr1, expr2):\n",
    "    prod = expand(expr1 * expr2)\n",
    "    print(prod)\n",
    "\n",
    "if __name__ == '__main__':\n",
    "    expr1 = input(\"Enter the first expression: \")\n",
    "    expr2 = input(\"Enter the second expression: \")\n",
    "\n",
    "    try:\n",
    "        expr1 = sympify(expr1)\n",
    "        expr2 = sympify(expr2)\n",
    "    except SympifyError:\n",
    "        print(\"Invalid input\")\n",
    "    else:\n",
    "        product(expr1, expr2)"
   ]
  },
  {
   "cell_type": "markdown",
   "id": "18c2b39f-a406-458d-9384-fc1fef885619",
   "metadata": {},
   "source": [
    "# 解方程"
   ]
  },
  {
   "cell_type": "markdown",
   "id": "e9280c4b-5a87-4ab5-80cd-ab07efee53f8",
   "metadata": {},
   "source": [
    "sympy的solve()函数可以用来解方程："
   ]
  },
  {
   "cell_type": "code",
   "execution_count": 47,
   "id": "ce3b4a62-3e6d-4c4d-bf31-950a2484ca4f",
   "metadata": {},
   "outputs": [],
   "source": [
    "from sympy import Symbol, solve"
   ]
  },
  {
   "cell_type": "code",
   "execution_count": 48,
   "id": "872f2e4a-76f6-4fca-bfb6-918a22c4479b",
   "metadata": {},
   "outputs": [
    {
     "data": {
      "image/png": "[encoded data removed]",
      "text/latex": [
       "$\\displaystyle \\left[ 12\\right]$"
      ],
      "text/plain": [
       "[12]"
      ]
     },
     "execution_count": 48,
     "metadata": {},
     "output_type": "execute_result"
    }
   ],
   "source": [
    "x = Symbol('x')\n",
    "expr = x - 5 - 7\n",
    "solve(expr)"
   ]
  }
 ],
 "metadata": {
  "kernelspec": {
   "display_name": "Python 3 (ipykernel)",
   "language": "python",
   "name": "python3"
  },
  "language_info": {
   "codemirror_mode": {
    "name": "ipython",
    "version": 3
   },
   "file_extension": ".py",
   "mimetype": "text/x-python",
   "name": "python",
   "nbconvert_exporter": "python",
   "pygments_lexer": "ipython3",
   "version": "3.10.11"
  }
 },
 "nbformat": 4,
 "nbformat_minor": 5
}
