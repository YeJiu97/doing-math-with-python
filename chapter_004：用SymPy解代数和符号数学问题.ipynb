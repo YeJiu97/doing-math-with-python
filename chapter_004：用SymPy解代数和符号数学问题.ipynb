{
 "cells": [
  {
   "cell_type": "markdown",
   "id": "d868a9b3-a01f-4840-9b20-f4a19185cf40",
   "metadata": {},
   "source": [
    "# 定义符号和符号运算"
   ]
  },
  {
   "cell_type": "markdown",
   "id": "6e09e326-37f6-4705-99f7-9c71f15a43bc",
   "metadata": {},
   "source": [
    "符号是符号数学的基础。"
   ]
  },
  {
   "cell_type": "code",
   "execution_count": 1,
   "id": "afb51752-35b2-4395-98e2-e78a6c961b53",
   "metadata": {},
   "outputs": [
    {
     "data": {
      "text/plain": [
       "32"
      ]
     },
     "execution_count": 1,
     "metadata": {},
     "output_type": "execute_result"
    }
   ],
   "source": [
    "x = 10\n",
    "x + x + 12"
   ]
  },
  {
   "cell_type": "markdown",
   "id": "7fc4d011-43ec-4b0a-beb3-99b2f558ad4e",
   "metadata": {},
   "source": [
    "SymPy可以让人编写包含符号的表达式并且执行计算："
   ]
  },
  {
   "cell_type": "code",
   "execution_count": 2,
   "id": "e71e5cba-5e50-4d4e-a2e7-7bd6cbf3f9eb",
   "metadata": {},
   "outputs": [],
   "source": [
    "from sympy import Symbol\n",
    "x = Symbol('X')"
   ]
  },
  {
   "cell_type": "markdown",
   "id": "fb692d76-138d-46e5-a5d2-75a584f64a72",
   "metadata": {},
   "source": [
    "接着使用x进行计算："
   ]
  },
  {
   "cell_type": "code",
   "execution_count": 3,
   "id": "c49a7b65-6b5f-4a3d-8992-64d57c49a2f6",
   "metadata": {},
   "outputs": [
    {
     "data": {
      "text/latex": [
       "$\\displaystyle 2 X + 1$"
      ],
      "text/plain": [
       "2*X + 1"
      ]
     },
     "execution_count": 3,
     "metadata": {},
     "output_type": "execute_result"
    }
   ],
   "source": [
    "x + x + 1"
   ]
  },
  {
   "cell_type": "markdown",
   "id": "efa0e50a-4002-476b-bd87-31595319e7b1",
   "metadata": {},
   "source": [
    "如何查看x这个符号的赋值符号："
   ]
  },
  {
   "cell_type": "code",
   "execution_count": 4,
   "id": "760e5d41-ecc8-4a50-92ce-b41b8229d998",
   "metadata": {},
   "outputs": [
    {
     "data": {
      "text/plain": [
       "'X'"
      ]
     },
     "execution_count": 4,
     "metadata": {},
     "output_type": "execute_result"
    }
   ],
   "source": [
    "x.name"
   ]
  },
  {
   "cell_type": "markdown",
   "id": "b99b0f11-6178-4e0c-aeac-b3ee3431bf19",
   "metadata": {},
   "source": [
    "同时定义多个符号："
   ]
  },
  {
   "cell_type": "code",
   "execution_count": 5,
   "id": "eaf8138d-4675-4d48-8e82-1b041ec78ff7",
   "metadata": {},
   "outputs": [],
   "source": [
    "from sympy import symbols\n",
    "x, y, z = symbols('x, y, z')"
   ]
  },
  {
   "cell_type": "code",
   "execution_count": 6,
   "id": "f6ea9e35-8fec-4fcf-b9f5-fc1b83a8b281",
   "metadata": {},
   "outputs": [
    {
     "data": {
      "text/latex": [
       "$\\displaystyle x$"
      ],
      "text/plain": [
       "x"
      ]
     },
     "execution_count": 6,
     "metadata": {},
     "output_type": "execute_result"
    }
   ],
   "source": [
    "x"
   ]
  },
  {
   "cell_type": "code",
   "execution_count": 7,
   "id": "46fce807-15bf-4689-ac6c-5157554e9fc3",
   "metadata": {},
   "outputs": [
    {
     "data": {
      "text/latex": [
       "$\\displaystyle y$"
      ],
      "text/plain": [
       "y"
      ]
     },
     "execution_count": 7,
     "metadata": {},
     "output_type": "execute_result"
    }
   ],
   "source": [
    "y"
   ]
  },
  {
   "cell_type": "code",
   "execution_count": 8,
   "id": "c9aff0bb-f415-45e0-bc51-cd34a076e840",
   "metadata": {},
   "outputs": [
    {
     "data": {
      "text/latex": [
       "$\\displaystyle z$"
      ],
      "text/plain": [
       "z"
      ]
     },
     "execution_count": 8,
     "metadata": {},
     "output_type": "execute_result"
    }
   ],
   "source": [
    "z"
   ]
  },
  {
   "cell_type": "code",
   "execution_count": 9,
   "id": "32688f6d-70ed-4c2e-a8db-d058b5ab0dd7",
   "metadata": {},
   "outputs": [
    {
     "data": {
      "text/latex": [
       "$\\displaystyle x + y$"
      ],
      "text/plain": [
       "x + y"
      ]
     },
     "execution_count": 9,
     "metadata": {},
     "output_type": "execute_result"
    }
   ],
   "source": [
    "x + y"
   ]
  },
  {
   "cell_type": "markdown",
   "id": "4fd26ac5-9a9e-44a3-a1bf-91ede2bea72d",
   "metadata": {},
   "source": [
    "SymPy会自动进行简单的加法和乘法运算："
   ]
  },
  {
   "cell_type": "code",
   "execution_count": 10,
   "id": "c7557fef-e8a2-4919-8202-87b600502e40",
   "metadata": {},
   "outputs": [
    {
     "data": {
      "text/latex": [
       "$\\displaystyle 2 x^{2}$"
      ],
      "text/plain": [
       "2*x**2"
      ]
     },
     "execution_count": 10,
     "metadata": {},
     "output_type": "execute_result"
    }
   ],
   "source": [
    "p = x * (x + x)\n",
    "p"
   ]
  },
  {
   "cell_type": "markdown",
   "id": "9472a25d-8215-45c6-8bbb-d5071cfce6bd",
   "metadata": {},
   "source": [
    "但是如果复杂一点儿，则需要使用表达式："
   ]
  },
  {
   "cell_type": "code",
   "execution_count": 11,
   "id": "27670762-3cc9-49d2-978b-01b0659137a2",
   "metadata": {},
   "outputs": [
    {
     "data": {
      "text/latex": [
       "$\\displaystyle \\left(x + 2\\right) \\left(x + 3\\right)$"
      ],
      "text/plain": [
       "(x + 2)*(x + 3)"
      ]
     },
     "execution_count": 11,
     "metadata": {},
     "output_type": "execute_result"
    }
   ],
   "source": [
    "p = (x + 2) * (x + 3)\n",
    "p"
   ]
  },
  {
   "cell_type": "markdown",
   "id": "f246e17f-2ca4-474f-a351-7888a9c7e5d8",
   "metadata": {},
   "source": [
    "可以发现SymPy只是自动简化最基本的表达式。"
   ]
  },
  {
   "cell_type": "markdown",
   "id": "2981b231-4449-4c49-8dec-0b72c642cbf6",
   "metadata": {},
   "source": [
    "# 使用表达式"
   ]
  },
  {
   "cell_type": "markdown",
   "id": "7e1ef2c0-85de-4be8-82b1-2bc744b70bc4",
   "metadata": {},
   "source": [
    "**分解和展开表达式**"
   ]
  },
  {
   "cell_type": "markdown",
   "id": "9863e303-46cb-42a0-828b-1f99c6c4d572",
   "metadata": {},
   "source": [
    "factor()函数分解表达式，而expand()函数展开表达式。"
   ]
  },
  {
   "cell_type": "code",
   "execution_count": 12,
   "id": "89345b00-006d-4f9e-907e-66327dc2ac05",
   "metadata": {},
   "outputs": [],
   "source": [
    "from sympy import Symbol\n",
    "\n",
    "x = Symbol('x')\n",
    "y = Symbol('y')"
   ]
  },
  {
   "cell_type": "code",
   "execution_count": 13,
   "id": "1f661439-282b-4e9a-9c7a-3ca5c3843e84",
   "metadata": {},
   "outputs": [
    {
     "data": {
      "text/latex": [
       "$\\displaystyle \\left(x - y\\right) \\left(x + y\\right)$"
      ],
      "text/plain": [
       "(x - y)*(x + y)"
      ]
     },
     "execution_count": 13,
     "metadata": {},
     "output_type": "execute_result"
    }
   ],
   "source": [
    "from sympy import factor\n",
    "expr = x**2 - y**2\n",
    "factor(expr)"
   ]
  },
  {
   "cell_type": "code",
   "execution_count": 14,
   "id": "c69abb73-5132-4334-9613-211064f53ea2",
   "metadata": {},
   "outputs": [
    {
     "data": {
      "text/latex": [
       "$\\displaystyle x^{2} - y^{2}$"
      ],
      "text/plain": [
       "x**2 - y**2"
      ]
     },
     "execution_count": 14,
     "metadata": {},
     "output_type": "execute_result"
    }
   ],
   "source": [
    "from sympy import expand\n",
    "factors = factor(expr)\n",
    "expand(factors)"
   ]
  },
  {
   "cell_type": "code",
   "execution_count": 15,
   "id": "02bb3683-3113-4e1f-8266-496f723edb6a",
   "metadata": {},
   "outputs": [
    {
     "data": {
      "text/latex": [
       "$\\displaystyle \\left(x + y\\right)^{3}$"
      ],
      "text/plain": [
       "(x + y)**3"
      ]
     },
     "execution_count": 15,
     "metadata": {},
     "output_type": "execute_result"
    }
   ],
   "source": [
    "expr = x**3 + 3 * x ** 2 * y + 3 * x * y ** 2 + y ** 3\n",
    "factors = factor(expr)\n",
    "factors"
   ]
  },
  {
   "cell_type": "code",
   "execution_count": 16,
   "id": "b3c172aa-5c87-4031-90e2-575ef69df0f7",
   "metadata": {},
   "outputs": [
    {
     "name": "stdout",
     "output_type": "stream",
     "text": [
      "(x + y)**3\n"
     ]
    }
   ],
   "source": [
    "print(factors)"
   ]
  },
  {
   "cell_type": "code",
   "execution_count": 17,
   "id": "facc37b9-9665-4f77-8e21-8db0c9a3a28c",
   "metadata": {},
   "outputs": [
    {
     "name": "stdout",
     "output_type": "stream",
     "text": [
      " 3      2          2    3\n",
      "x  + 3⋅x ⋅y + 3⋅x⋅y  + y \n"
     ]
    }
   ],
   "source": [
    "from sympy import pprint\n",
    "pprint(expr)"
   ]
  },
  {
   "cell_type": "markdown",
   "id": "7eee2858-fe64-4421-b097-a85d1aa603bd",
   "metadata": {},
   "source": [
    "**输出级数**"
   ]
  },
  {
   "cell_type": "code",
   "execution_count": 18,
   "id": "3fffade2-19ee-4a65-b054-890f76a07824",
   "metadata": {},
   "outputs": [
    {
     "name": "stdin",
     "output_type": "stream",
     "text": [
      "Enter the number of tearms you want in the series:  10\n"
     ]
    },
    {
     "name": "stdout",
     "output_type": "stream",
     "text": [
      "     2    3    4    5    6    7    8    9    10\n",
      "    x    x    x    x    x    x    x    x    x  \n",
      "x + ── + ── + ── + ── + ── + ── + ── + ── + ───\n",
      "    2    3    4    5    6    7    8    9     10\n"
     ]
    }
   ],
   "source": [
    "from sympy import Symbol, pprint, init_printing\n",
    "\n",
    "def print_series(n):\n",
    "    init_printing(order = 'rev-lex')\n",
    "    x = Symbol('x')\n",
    "    series = x\n",
    "    for i in range(2, n + 1):\n",
    "        series = series + (x**i) / i\n",
    "    pprint(series)\n",
    "\n",
    "if __name__ == '__main__':\n",
    "    n = input('Enter the number of tearms you want in the series: ')\n",
    "    print_series(int(n))"
   ]
  },
  {
   "cell_type": "markdown",
   "id": "5e45fe4c-9aa9-4836-ac42-ccee7d1390e9",
   "metadata": {},
   "source": [
    "使用subs()函数来将值代入："
   ]
  },
  {
   "cell_type": "code",
   "execution_count": 19,
   "id": "ea606e6c-1a11-4b8d-b48e-193fcaab9973",
   "metadata": {},
   "outputs": [],
   "source": [
    "expr = x * x + x * y + x * y + y * y\n",
    "res = expr.subs({x : 1, y : 2})"
   ]
  },
  {
   "cell_type": "code",
   "execution_count": 20,
   "id": "08bf32f0-5946-404a-ade0-ebfd18fad1e8",
   "metadata": {},
   "outputs": [
    {
     "data": {
      "image/png": "[encoded data removed]",
      "text/latex": [
       "$\\displaystyle 9$"
      ],
      "text/plain": [
       "9"
      ]
     },
     "execution_count": 20,
     "metadata": {},
     "output_type": "execute_result"
    }
   ],
   "source": [
    "res"
   ]
  },
  {
   "cell_type": "markdown",
   "id": "61157793-067d-41a1-bb0e-5f35762d4a45",
   "metadata": {},
   "source": [
    "接着我们可以将 $ x = 1 - y $ 带入到上述的表达式中："
   ]
  },
  {
   "cell_type": "code",
   "execution_count": 21,
   "id": "f2060578-7fc5-4479-a453-d29481852baf",
   "metadata": {},
   "outputs": [
    {
     "data": {
      "image/png": "[encoded data removed]",
      "text/latex": [
       "$\\displaystyle \\left(1 - y\\right)^{2} + 2 y \\left(1 - y\\right) + y^{2}$"
      ],
      "text/plain": [
       "       2                  2\n",
       "(1 - y)  + 2⋅y⋅(1 - y) + y "
      ]
     },
     "execution_count": 21,
     "metadata": {},
     "output_type": "execute_result"
    }
   ],
   "source": [
    "expr.subs({x:1-y})"
   ]
  },
  {
   "cell_type": "markdown",
   "id": "8728ff14-8f51-47ae-ae61-8fcc826a0c4e",
   "metadata": {},
   "source": [
    "但是等一下，这个表达式是否能够再简化一点儿呢？"
   ]
  },
  {
   "cell_type": "code",
   "execution_count": 22,
   "id": "e99c80bc-c771-4f47-9d20-7e0664a21840",
   "metadata": {},
   "outputs": [
    {
     "data": {
      "image/png": "[encoded data removed]",
      "text/latex": [
       "$\\displaystyle 1$"
      ],
      "text/plain": [
       "1"
      ]
     },
     "execution_count": 22,
     "metadata": {},
     "output_type": "execute_result"
    }
   ],
   "source": [
    "expr_subs = expr.subs({x : 1 - y})\n",
    "from sympy import simplify\n",
    "simplify(expr_subs)"
   ]
  },
  {
   "cell_type": "markdown",
   "id": "8110b086-3da4-4048-96c9-bfcd0144eb62",
   "metadata": {},
   "source": [
    "**将字符串转换为数学表达式**"
   ]
  },
  {
   "cell_type": "markdown",
   "id": "b7edc4f8-b0c4-4e93-abff-614c933405d6",
   "metadata": {},
   "source": [
    "我们希望能够有一个更加通用的程序，能够将用户提供的任何表达式转换为数学表达式。"
   ]
  },
  {
   "cell_type": "code",
   "execution_count": 23,
   "id": "48d1b7a8-7a22-45ad-b79c-fc233334a48a",
   "metadata": {},
   "outputs": [
    {
     "name": "stdin",
     "output_type": "stream",
     "text": [
      "Enter a mathematical expression:  2 * x ** 2 + 3 * x \n"
     ]
    },
    {
     "data": {
      "image/png": "[encoded data removed]",
      "text/latex": [
       "$\\displaystyle 3 x + 2 x^{2}$"
      ],
      "text/plain": [
       "         2\n",
       "3⋅x + 2⋅x "
      ]
     },
     "execution_count": 23,
     "metadata": {},
     "output_type": "execute_result"
    }
   ],
   "source": [
    "from sympy import sympify\n",
    "expr = input(\"Enter a mathematical expression: \")\n",
    "expr = sympify(expr)\n",
    "expr"
   ]
  },
  {
   "cell_type": "code",
   "execution_count": 24,
   "id": "01eecc1e-19be-4ddc-b064-9f60041b08c3",
   "metadata": {},
   "outputs": [
    {
     "data": {
      "image/png": "[encoded data removed]",
      "text/latex": [
       "$\\displaystyle 6 x + 4 x^{2}$"
      ],
      "text/plain": [
       "         2\n",
       "6⋅x + 4⋅x "
      ]
     },
     "execution_count": 24,
     "metadata": {},
     "output_type": "execute_result"
    }
   ],
   "source": [
    "2 * expr"
   ]
  },
  {
   "cell_type": "markdown",
   "id": "5937fbc9-a91c-4751-873e-d890acda683d",
   "metadata": {},
   "source": [
    "不过需要考虑非法输入的情况："
   ]
  },
  {
   "cell_type": "code",
   "execution_count": 25,
   "id": "3b29c40f-174f-417c-a0a6-62c28f238e1a",
   "metadata": {},
   "outputs": [
    {
     "name": "stdin",
     "output_type": "stream",
     "text": [
      "Enter a mathematical expression:  asdf24adf123r()&*(&\n"
     ]
    },
    {
     "name": "stdout",
     "output_type": "stream",
     "text": [
      "Invalid Input.\n"
     ]
    },
    {
     "data": {
      "text/plain": [
       "'asdf24adf123r()&*(&'"
      ]
     },
     "execution_count": 25,
     "metadata": {},
     "output_type": "execute_result"
    }
   ],
   "source": [
    "from sympy import sympify\n",
    "from sympy.core.sympify import SympifyError\n",
    "expr = input(\"Enter a mathematical expression: \")\n",
    "\n",
    "try:\n",
    "    expr = sympify(expr)\n",
    "except SympifyError:\n",
    "    print('Invalid Input.')\n",
    "expr"
   ]
  },
  {
   "cell_type": "markdown",
   "id": "e74c4d71-cbed-4af3-9211-69ccdc25ca88",
   "metadata": {},
   "source": [
    "**乘法表达式**"
   ]
  },
  {
   "cell_type": "markdown",
   "id": "9b3efcd3-a8f9-4892-8cad-21854495cf65",
   "metadata": {},
   "source": [
    "使用sympify()函数来编写一个程序，计算两个表达式的乘积："
   ]
  },
  {
   "cell_type": "code",
   "execution_count": 26,
   "id": "e4969f91-dfb0-463a-9a9a-0cc64da7e5bf",
   "metadata": {},
   "outputs": [
    {
     "name": "stdin",
     "output_type": "stream",
     "text": [
      "Enter the first expression:  2 * x ** 2 + 3 * x + 10\n",
      "Enter the second expression:  1.5 * x ** 3 + 4 * x ** 2 + 4 * x + 11\n"
     ]
    },
    {
     "name": "stdout",
     "output_type": "stream",
     "text": [
      "3.0*x**5 + 12.5*x**4 + 35.0*x**3 + 74*x**2 + 73*x + 110\n"
     ]
    }
   ],
   "source": [
    "from sympy import expand, sympify\n",
    "from sympy.core.sympify import SympifyError\n",
    "\n",
    "def product(expr1, expr2):\n",
    "    prod = expand(expr1 * expr2)\n",
    "    print(prod)\n",
    "\n",
    "if __name__ == '__main__':\n",
    "    expr1 = input(\"Enter the first expression: \")\n",
    "    expr2 = input(\"Enter the second expression: \")\n",
    "\n",
    "    try:\n",
    "        expr1 = sympify(expr1)\n",
    "        expr2 = sympify(expr2)\n",
    "    except SympifyError:\n",
    "        print(\"Invalid input\")\n",
    "    else:\n",
    "        product(expr1, expr2)"
   ]
  },
  {
   "cell_type": "markdown",
   "id": "18c2b39f-a406-458d-9384-fc1fef885619",
   "metadata": {},
   "source": [
    "# 解方程"
   ]
  },
  {
   "cell_type": "markdown",
   "id": "e9280c4b-5a87-4ab5-80cd-ab07efee53f8",
   "metadata": {},
   "source": [
    "sympy的solve()函数可以用来解方程："
   ]
  },
  {
   "cell_type": "code",
   "execution_count": 27,
   "id": "ce3b4a62-3e6d-4c4d-bf31-950a2484ca4f",
   "metadata": {},
   "outputs": [],
   "source": [
    "from sympy import Symbol, solve"
   ]
  },
  {
   "cell_type": "code",
   "execution_count": 28,
   "id": "872f2e4a-76f6-4fca-bfb6-918a22c4479b",
   "metadata": {},
   "outputs": [
    {
     "data": {
      "image/png": "[encoded data removed]",
      "text/latex": [
       "$\\displaystyle \\left[ 12\\right]$"
      ],
      "text/plain": [
       "[12]"
      ]
     },
     "execution_count": 28,
     "metadata": {},
     "output_type": "execute_result"
    }
   ],
   "source": [
    "x = Symbol('x')\n",
    "expr = x - 5 - 7\n",
    "solve(expr)"
   ]
  },
  {
   "cell_type": "markdown",
   "id": "fb3f6509-b394-436d-baae-c925f9129b13",
   "metadata": {},
   "source": [
    "**解二次方程**"
   ]
  },
  {
   "cell_type": "code",
   "execution_count": 29,
   "id": "070dc3a1-2014-42fc-b2d0-0f92bd1b27b2",
   "metadata": {},
   "outputs": [
    {
     "data": {
      "image/png": "[encoded data removed]",
      "text/latex": [
       "$\\displaystyle \\left[ \\left\\{ x : -4\\right\\}, \\  \\left\\{ x : -1\\right\\}\\right]$"
      ],
      "text/plain": [
       "[{x: -4}, {x: -1}]"
      ]
     },
     "execution_count": 29,
     "metadata": {},
     "output_type": "execute_result"
    }
   ],
   "source": [
    "from sympy import solve\n",
    "\n",
    "x = Symbol('x')\n",
    "expr = x ** 2 + 5 * x + 4\n",
    "solve(expr, dict = True)"
   ]
  },
  {
   "cell_type": "markdown",
   "id": "4cd6c392-1b14-4a8a-9a8a-7e0a8635a540",
   "metadata": {},
   "source": [
    "首先导入 solve() 函数，然后定义一个符号 x。\n",
    "\n",
    "接着定义一个二次方程的表达式，x ** 2 + 5 * x + 4。\n",
    "\n",
    "接着调用solve()函数，dict=True则指定将结果作为一个列表进行返回，其中每个元素都是Python字典。\n",
    "\n",
    "字典中，符号作为键，值则作为x的在算式中的解。"
   ]
  },
  {
   "cell_type": "markdown",
   "id": "47d7d4a4-33c5-483f-a046-7b4aeeef17d5",
   "metadata": {},
   "source": [
    "尝试具有复数根的公式："
   ]
  },
  {
   "cell_type": "code",
   "execution_count": 30,
   "id": "c9eca032-3f94-4562-9c4a-f753c677cddd",
   "metadata": {},
   "outputs": [
    {
     "data": {
      "image/png": "[encoded data removed]",
      "text/latex": [
       "$\\displaystyle \\left[ \\left\\{ x : - \\frac{\\sqrt{3} i}{2} - \\frac{1}{2}\\right\\}, \\  \\left\\{ x : \\frac{\\sqrt{3} i}{2} - \\frac{1}{2}\\right\\}\\right]$"
      ],
      "text/plain": [
       "⎡⎧     √3⋅ⅈ   1⎫  ⎧   √3⋅ⅈ   1⎫⎤\n",
       "⎢⎨x: - ──── - ─⎬, ⎨x: ──── - ─⎬⎥\n",
       "⎣⎩      2     2⎭  ⎩    2     2⎭⎦"
      ]
     },
     "execution_count": 30,
     "metadata": {},
     "output_type": "execute_result"
    }
   ],
   "source": [
    "x = Symbol('x')\n",
    "expr = x ** 2 + x + 1\n",
    "solve(expr, dict = True)"
   ]
  },
  {
   "cell_type": "markdown",
   "id": "1837e4bb-9d1b-4ed0-9cb3-d9698d0b64ff",
   "metadata": {},
   "source": [
    "尝试高于二次方的表达式："
   ]
  },
  {
   "cell_type": "code",
   "execution_count": 33,
   "id": "b0fb5b93-621e-41e6-9a23-4cce5046b74c",
   "metadata": {
    "scrolled": true
   },
   "outputs": [
    {
     "data": {
      "image/png": "[encoded data removed]",
      "text/latex": [
       "$\\displaystyle \\left[ \\left\\{ x : - \\frac{\\left(- \\frac{\\sqrt{3} i}{2} - \\frac{1}{2}\\right) \\sqrt[3]{\\frac{29}{2} + \\frac{3 \\sqrt{93}}{2}}}{3} - \\frac{1}{3 \\left(- \\frac{\\sqrt{3} i}{2} - \\frac{1}{2}\\right) \\sqrt[3]{\\frac{29}{2} + \\frac{3 \\sqrt{93}}{2}}} - \\frac{1}{3}\\right\\}, \\  \\left\\{ x : - \\frac{1}{3 \\left(\\frac{\\sqrt{3} i}{2} - \\frac{1}{2}\\right) \\sqrt[3]{\\frac{29}{2} + \\frac{3 \\sqrt{93}}{2}}} - \\frac{\\left(\\frac{\\sqrt{3} i}{2} - \\frac{1}{2}\\right) \\sqrt[3]{\\frac{29}{2} + \\frac{3 \\sqrt{93}}{2}}}{3} - \\frac{1}{3}\\right\\}, \\  \\left\\{ x : - \\frac{1}{3 \\sqrt[3]{\\frac{29}{2} + \\frac{3 \\sqrt{93}}{2}}} - \\frac{1}{3} - \\frac{\\sqrt[3]{\\frac{29}{2} + \\frac{3 \\sqrt{93}}{2}}}{3}\\right\\}\\right]$"
      ],
      "text/plain": [
       "⎡⎧                      ____________                                      ⎫  ⎧\n",
       "⎢⎪     ⎛  √3⋅ⅈ   1⎞    ╱ 29   3⋅√93                                       ⎪  ⎪\n",
       "⎢⎪     ⎜- ──── - ─⎟⋅3 ╱  ── + ─────                                       ⎪  ⎪\n",
       "⎢⎪     ⎝   2     2⎠ ╲╱   2      2                     1                  1⎪  ⎪\n",
       "⎢⎨x: - ───────────────────────────── - ─────────────────────────────── - ─⎬, ⎨\n",
       "⎢⎪                   3                                    ____________   3⎪  ⎪\n",
       "⎢⎪                                       ⎛  √3⋅ⅈ   1⎞    ╱ 29   3⋅√93     ⎪  ⎪\n",
       "⎢⎪                                     3⋅⎜- ──── - ─⎟⋅3 ╱  ── + ─────     ⎪  ⎪\n",
       "⎣⎩                                       ⎝   2     2⎠ ╲╱   2      2       ⎭  ⎩\n",
       "\n",
       "                                                    ____________    ⎫  ⎧      \n",
       "                                     ⎛√3⋅ⅈ   1⎞    ╱ 29   3⋅√93     ⎪  ⎪      \n",
       "                                     ⎜──── - ─⎟⋅3 ╱  ── + ─────     ⎪  ⎪      \n",
       "                   1                 ⎝ 2     2⎠ ╲╱   2      2      1⎪  ⎪      \n",
       "x: - ───────────────────────────── - ─────────────────────────── - ─⎬, ⎨x: - ─\n",
       "                      ____________                3                3⎪  ⎪      \n",
       "       ⎛√3⋅ⅈ   1⎞    ╱ 29   3⋅√93                                   ⎪  ⎪      \n",
       "     3⋅⎜──── - ─⎟⋅3 ╱  ── + ─────                                   ⎪  ⎪     3\n",
       "       ⎝ 2     2⎠ ╲╱   2      2                                     ⎭  ⎩      \n",
       "\n",
       "                            ____________⎫⎤\n",
       "                           ╱ 29   3⋅√93 ⎪⎥\n",
       "                        3 ╱  ── + ───── ⎪⎥\n",
       "       1            1   ╲╱   2      2   ⎪⎥\n",
       "───────────────── - ─ - ────────────────⎬⎥\n",
       "     ____________   3          3        ⎪⎥\n",
       "    ╱ 29   3⋅√93                        ⎪⎥\n",
       "⋅3 ╱  ── + ─────                        ⎪⎥\n",
       " ╲╱   2      2                          ⎭⎦"
      ]
     },
     "execution_count": 33,
     "metadata": {},
     "output_type": "execute_result"
    }
   ],
   "source": [
    "x = Symbol('x')\n",
    "expr = x ** 3 + x **2 + 1\n",
    "solve(expr, dict = True)"
   ]
  },
  {
   "cell_type": "markdown",
   "id": "2578d898-02b1-4afa-8599-d668b788e50d",
   "metadata": {},
   "source": [
    "**用其他变量求解一个变量**"
   ]
  },
  {
   "cell_type": "markdown",
   "id": "83e9dd59-d47b-480e-92f1-d5c7e593450a",
   "metadata": {},
   "source": [
    "我们这里计算的是： $ax^2 + bx + c = 0$，这是一个通用表达式，用a和b和c来表达一下x的值。"
   ]
  },
  {
   "cell_type": "code",
   "execution_count": 36,
   "id": "d8c91523-18fd-4b9b-8517-5a453973be55",
   "metadata": {},
   "outputs": [],
   "source": [
    "x = Symbol('x')\n",
    "a = Symbol('a')\n",
    "b = Symbol('b')\n",
    "c = Symbol('c')"
   ]
  },
  {
   "cell_type": "code",
   "execution_count": 37,
   "id": "70a6b654-0c4e-4326-8d8b-f6493e85ef77",
   "metadata": {},
   "outputs": [
    {
     "data": {
      "image/png": "[encoded data removed]",
      "text/latex": [
       "$\\displaystyle \\left[ \\left\\{ x : \\frac{- \\sqrt{b^{2} - 4 a c} - b}{2 a}\\right\\}, \\  \\left\\{ x : \\frac{\\sqrt{b^{2} - 4 a c} - b}{2 a}\\right\\}\\right]$"
      ],
      "text/plain": [
       "⎡⎧        ____________    ⎫  ⎧      ____________    ⎫⎤\n",
       "⎢⎪       ╱  2             ⎪  ⎪     ╱  2             ⎪⎥\n",
       "⎢⎨   - ╲╱  b  - 4⋅a⋅c  - b⎬  ⎨   ╲╱  b  - 4⋅a⋅c  - b⎬⎥\n",
       "⎢⎪x: ─────────────────────⎪, ⎪x: ───────────────────⎪⎥\n",
       "⎣⎩            2⋅a         ⎭  ⎩           2⋅a        ⎭⎦"
      ]
     },
     "execution_count": 37,
     "metadata": {},
     "output_type": "execute_result"
    }
   ],
   "source": [
    "expr = a * x * x + b * x + c\n",
    "solve(expr, x, dict = True)"
   ]
  },
  {
   "cell_type": "markdown",
   "id": "3f356f48-2459-4fec-b93b-07b3c079096e",
   "metadata": {},
   "source": [
    "**解方程组**"
   ]
  },
  {
   "cell_type": "markdown",
   "id": "70b7dc4d-2176-4a37-91bf-f9e76a64c935",
   "metadata": {},
   "source": [
    "加入有一个方程组，需要求解："
   ]
  },
  {
   "cell_type": "code",
   "execution_count": 38,
   "id": "5d55e763-b09e-4dbe-8ba4-d16124085108",
   "metadata": {},
   "outputs": [],
   "source": [
    "x = Symbol('x')\n",
    "y = Symbol('y')\n",
    "expr1 = 2 * x + 3 * y - 6 \n",
    "expr2 = 3 * x + 2 * y - 12"
   ]
  },
  {
   "cell_type": "code",
   "execution_count": 39,
   "id": "e5190b28-c479-4879-bf27-4049bbc34970",
   "metadata": {},
   "outputs": [
    {
     "data": {
      "image/png": "[encoded data removed]",
      "text/latex": [
       "$\\displaystyle \\left[ \\left\\{ x : \\frac{24}{5}, \\  y : - \\frac{6}{5}\\right\\}\\right]$"
      ],
      "text/plain": [
       "[{x: 24/5, y: -6/5}]"
      ]
     },
     "execution_count": 39,
     "metadata": {},
     "output_type": "execute_result"
    }
   ],
   "source": [
    "solve((expr1, expr2), dict = True)"
   ]
  },
  {
   "cell_type": "markdown",
   "id": "7da67926-4629-4349-8f6f-9d9f24077fe6",
   "metadata": {},
   "source": [
    "# 用SymPy包绘图"
   ]
  },
  {
   "cell_type": "markdown",
   "id": "7ee34f90-b99f-45b1-86e7-051a7a29e342",
   "metadata": {},
   "source": [
    "matplotlib需要接受一系列的值组，才能够绘制对应的图形，但是SymPy可以直接创建方程的图形。"
   ]
  },
  {
   "cell_type": "code",
   "execution_count": 40,
   "id": "309f65d7-8a3b-466a-bb55-9142eb3798f2",
   "metadata": {},
   "outputs": [
    {
     "data": {
      "image/png": "[encoded data removed]",
      "text/plain": [
       "<Figure size 640x480 with 1 Axes>"
      ]
     },
     "metadata": {},
     "output_type": "display_data"
    },
    {
     "data": {
      "text/plain": [
       "<sympy.plotting.plot.Plot at 0x15cd4ddffa0>"
      ]
     },
     "execution_count": 40,
     "metadata": {},
     "output_type": "execute_result"
    }
   ],
   "source": [
    "from sympy.plotting import plot\n",
    "from sympy import Symbol\n",
    "\n",
    "x = Symbol('x')\n",
    "plot(2 * x + 3)"
   ]
  },
  {
   "cell_type": "markdown",
   "id": "96b87e2b-c3ad-43b4-8b88-ccd0c228d755",
   "metadata": {},
   "source": [
    "上图的区间是 -10 到 10，我们可以将区间调整到 -5 到 5。"
   ]
  },
  {
   "cell_type": "code",
   "execution_count": 41,
   "id": "79020c7e-245c-4e94-b353-da454aabd306",
   "metadata": {},
   "outputs": [
    {
     "data": {
      "image/png": "[encoded data removed]",
      "text/plain": [
       "<Figure size 640x480 with 1 Axes>"
      ]
     },
     "metadata": {},
     "output_type": "display_data"
    },
    {
     "data": {
      "text/plain": [
       "<sympy.plotting.plot.Plot at 0x15cd50948b0>"
      ]
     },
     "execution_count": 41,
     "metadata": {},
     "output_type": "execute_result"
    }
   ],
   "source": [
    "plot((2*x + 3), (x, -5, 5))"
   ]
  },
  {
   "cell_type": "markdown",
   "id": "53150346-79a5-4fcc-aad9-b2d461283e88",
   "metadata": {},
   "source": [
    "接着添加其他的关键信息："
   ]
  },
  {
   "cell_type": "code",
   "execution_count": 42,
   "id": "672bfe3a-49b7-4191-ac78-3b90fc5fa9aa",
   "metadata": {},
   "outputs": [
    {
     "data": {
      "image/png": "[encoded data removed]",
      "text/plain": [
       "<Figure size 640x480 with 1 Axes>"
      ]
     },
     "metadata": {},
     "output_type": "display_data"
    },
    {
     "data": {
      "text/plain": [
       "<sympy.plotting.plot.Plot at 0x15cd5289cf0>"
      ]
     },
     "execution_count": 42,
     "metadata": {},
     "output_type": "execute_result"
    }
   ],
   "source": [
    "plot(2 * x + 3, (x, -5, 5), title = 'A Line', xlabel = 'x', ylabel = '2x+3')"
   ]
  },
  {
   "cell_type": "code",
   "execution_count": 43,
   "id": "ddd0bae8-1609-4b26-833f-90a836d58b37",
   "metadata": {},
   "outputs": [
    {
     "data": {
      "image/png": "[encoded data removed]",
      "text/plain": [
       "<Figure size 640x480 with 1 Axes>"
      ]
     },
     "metadata": {},
     "output_type": "display_data"
    }
   ],
   "source": [
    "# 存到一个变量中，但是不打印\n",
    "p = plot(2 * x + 3, (x, -5, 5), title = 'A Line', xlabel = 'x', ylabel = '2x+3', show = False)\n",
    "# 然后将图片存储到本地\n",
    "p.save('line.png')"
   ]
  },
  {
   "cell_type": "markdown",
   "id": "7ed4a862-f445-4492-baf4-3d8376cbe1e4",
   "metadata": {},
   "source": [
    "**绘制用户的输入**"
   ]
  },
  {
   "cell_type": "code",
   "execution_count": 44,
   "id": "852739e5-2544-4366-ab68-37184ce2d7a9",
   "metadata": {},
   "outputs": [
    {
     "name": "stdin",
     "output_type": "stream",
     "text": [
      "Enter an expression:  2*x + 3*y - 6\n"
     ]
    },
    {
     "data": {
      "image/png": "[encoded data removed]",
      "text/latex": [
       "$\\displaystyle \\left[ 2 - \\frac{2 x}{3}\\right]$"
      ],
      "text/plain": [
       "⎡    2⋅x⎤\n",
       "⎢2 - ───⎥\n",
       "⎣     3 ⎦"
      ]
     },
     "execution_count": 44,
     "metadata": {},
     "output_type": "execute_result"
    }
   ],
   "source": [
    "expr = input('Enter an expression: ')\n",
    "expr = sympify(expr)\n",
    "y = Symbol('y')\n",
    "solve(expr, y)"
   ]
  },
  {
   "cell_type": "markdown",
   "id": "10358748-a4ea-45d6-b17e-27dafbf7c271",
   "metadata": {},
   "source": [
    "可以在同一张图上绘制多个函数。"
   ]
  },
  {
   "cell_type": "code",
   "execution_count": 46,
   "id": "97245864-c9a3-4758-ad12-db47ec3d0b43",
   "metadata": {},
   "outputs": [
    {
     "data": {
      "image/png": "[encoded data removed]",
      "text/plain": [
       "<Figure size 640x480 with 1 Axes>"
      ]
     },
     "metadata": {},
     "output_type": "display_data"
    },
    {
     "data": {
      "text/plain": [
       "<sympy.plotting.plot.Plot at 0x15cd4d2f1f0>"
      ]
     },
     "execution_count": 46,
     "metadata": {},
     "output_type": "execute_result"
    }
   ],
   "source": [
    "x = Symbol('x')\n",
    "plot(2*x+3, 3*x+1)"
   ]
  }
 ],
 "metadata": {
  "kernelspec": {
   "display_name": "Python 3 (ipykernel)",
   "language": "python",
   "name": "python3"
  },
  "language_info": {
   "codemirror_mode": {
    "name": "ipython",
    "version": 3
   },
   "file_extension": ".py",
   "mimetype": "text/x-python",
   "name": "python",
   "nbconvert_exporter": "python",
   "pygments_lexer": "ipython3",
   "version": "3.10.11"
  }
 },
 "nbformat": 4,
 "nbformat_minor": 5
}
