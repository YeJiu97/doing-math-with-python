{
 "cells": [
  {
   "cell_type": "markdown",
   "id": "10d0dcaf-8d9c-4671-aebb-a38f5fed47c4",
   "metadata": {},
   "source": [
    "# 什么是集合"
   ]
  },
  {
   "cell_type": "markdown",
   "id": "5db69190-845a-4d13-8316-4624078fc903",
   "metadata": {},
   "source": [
    "集合，简称集，是数学中一个基本概念，也是集合论的主要研究对象。集合是由某些确定的、不同对象的全体构成。这些对象被称为集合的元素。集合的三要素包括确定性、互异性和无序性。\r\n",
    "\r\n",
    "确定性是指对于一个给定的集合，集合中的元素是确定的，任何对象或者是该集合的元素，或者不是该集合的元素。互异性是指一个集合中的元素是不相同的，即每个元素都是唯一的。无序性是指集合中的元素没有固定的顺序，即集合是无序的。"
   ]
  },
  {
   "cell_type": "markdown",
   "id": "7d6d81b8-e6f6-49b3-9631-4b285f2008c9",
   "metadata": {},
   "source": [
    "**构建集合**"
   ]
  },
  {
   "cell_type": "markdown",
   "id": "3fbac803-97bc-4db4-92b8-ad04676ca7ba",
   "metadata": {},
   "source": [
    "### SymPy 是一个 Python 的符号数学库，它提供了广泛的数学符号计算功能。其中的 FiniteSet 是 SymPy 中用来表示有限集合的类。\r\n",
    "\r\n",
    "FiniteSet 类用于创建一个包含有限元素的集合。它可以接受整数、浮点数、符号、甚至其它 SymPy 对象作为元素，然后将这些元素组合成一个集合。\r\n",
    "\r\n",
    "下面是一个简单的示例，演示了如何使用 FiniteSet 类创建一个有限集合：\r\n",
    "\r\n",
    "```python\r\n",
    "from sympy import FiniteSet\r\n",
    "\r\n",
    "# 创建一个有限集合\r\n",
    "s = FiniteSet(1, 2, 3, 4, 5)\r\n",
    "\r\n",
    "# 打印这个有限集合\r\n",
    "print(s)  # 输出: {1, 2, 3, 4, 5}\r\n",
    "```\r\n",
    "\r\n",
    "FiniteSet 类还提供了一些常用的集合操作，比如并集、交集、补集等。通过这些操作，可以方便地进行集合运算和逻辑操作。\r\n",
    "\r\n",
    "除了用于表示具体的有限集合，FiniteSet 还可以用于表示集合论中的一些概念，比如全集、空集等。\r\n",
    "\r\n",
    "总的来说，FiniteSet 类提供了在符号数学计算中表示和操作有限集合的功能，为处理集合相关的数学问题提供了便利。"
   ]
  },
  {
   "cell_type": "code",
   "execution_count": 1,
   "id": "eabd69d3-edb1-4f20-bb8c-85e7504a61ed",
   "metadata": {},
   "outputs": [
    {
     "data": {
      "text/latex": [
       "$\\displaystyle \\left\\{2, 4, 6\\right\\}$"
      ],
      "text/plain": [
       "{2, 4, 6}"
      ]
     },
     "execution_count": 1,
     "metadata": {},
     "output_type": "execute_result"
    }
   ],
   "source": [
    "from sympy import FiniteSet\n",
    "s = FiniteSet(2, 4, 6)\n",
    "s"
   ]
  },
  {
   "cell_type": "markdown",
   "id": "e1094fd6-e61e-4e4c-97fa-d7239f78c9b3",
   "metadata": {},
   "source": [
    "同一个集合可以包含不同类型的数字，如：整数，浮点数和分数。"
   ]
  },
  {
   "cell_type": "code",
   "execution_count": 2,
   "id": "fc1f9b4a-8d2e-4a9c-b580-f053629acf22",
   "metadata": {},
   "outputs": [
    {
     "data": {
      "text/latex": [
       "$\\displaystyle \\left\\{\\frac{1}{5}, 1, 1.5\\right\\}$"
      ],
      "text/plain": [
       "{1/5, 1, 1.5}"
      ]
     },
     "execution_count": 2,
     "metadata": {},
     "output_type": "execute_result"
    }
   ],
   "source": [
    "from sympy import FiniteSet\n",
    "from fractions import Fraction\n",
    "s = FiniteSet(1, 1.5, Fraction(1, 5))\n",
    "s"
   ]
  },
  {
   "cell_type": "markdown",
   "id": "cbee80b0-50ab-4d9c-9df8-88374682f09e",
   "metadata": {},
   "source": [
    "查看类型："
   ]
  },
  {
   "cell_type": "code",
   "execution_count": 3,
   "id": "218e7f67-d300-491a-9781-7552131f62d6",
   "metadata": {},
   "outputs": [
    {
     "data": {
      "text/plain": [
       "sympy.sets.sets.FiniteSet"
      ]
     },
     "execution_count": 3,
     "metadata": {},
     "output_type": "execute_result"
    }
   ],
   "source": [
    "type(s)"
   ]
  },
  {
   "cell_type": "markdown",
   "id": "0f619c26-62d0-44b3-9879-0b45ced66dfe",
   "metadata": {},
   "source": [
    "查看长度："
   ]
  },
  {
   "cell_type": "code",
   "execution_count": 4,
   "id": "e6226850-ecaf-4feb-bfc9-e1640398f0f5",
   "metadata": {},
   "outputs": [
    {
     "data": {
      "text/plain": [
       "3"
      ]
     },
     "execution_count": 4,
     "metadata": {},
     "output_type": "execute_result"
    }
   ],
   "source": [
    "len(s)"
   ]
  },
  {
   "cell_type": "markdown",
   "id": "5a9bb05c-9336-4365-8384-f1f0ea1af6dd",
   "metadata": {},
   "source": [
    "可以用in来进行判断某一个元素是否在集合中："
   ]
  },
  {
   "cell_type": "code",
   "execution_count": 5,
   "id": "19386020-f6b3-4d66-ba77-54bf7c98705b",
   "metadata": {},
   "outputs": [
    {
     "data": {
      "text/plain": [
       "True"
      ]
     },
     "execution_count": 5,
     "metadata": {},
     "output_type": "execute_result"
    }
   ],
   "source": [
    "1 in s"
   ]
  },
  {
   "cell_type": "code",
   "execution_count": 6,
   "id": "159064a6-4e74-4bdd-9593-1b84c0505ba0",
   "metadata": {},
   "outputs": [
    {
     "data": {
      "text/plain": [
       "False"
      ]
     },
     "execution_count": 6,
     "metadata": {},
     "output_type": "execute_result"
    }
   ],
   "source": [
    "4 in s"
   ]
  },
  {
   "cell_type": "markdown",
   "id": "6c21f28c-35ff-4167-b847-e71e92158513",
   "metadata": {},
   "source": [
    "**关于*的Python语法**"
   ]
  },
  {
   "cell_type": "markdown",
   "id": "6d9aa1ff-e25d-4dff-9e2a-77d3112a9ea2",
   "metadata": {},
   "source": [
    "在 Python 中，*variable 在语法中通常表示“可变参数”（varargs）或“解包参数”（unpacking arguments）。\r\n",
    "\r\n",
    "1. 可变参数（*args）：在函数定义中，*args 用于表示函数接受任意数量的位置参数，并将这些参数打包成一个元组。这样在函数内部就可以通过 args 这个元组来访问所有的位置参数。例如：\r\n",
    "\r\n",
    "```python\r\n",
    "def my_function(*args):\r\n",
    "    for arg in args:\r\n",
    "        print(arg)\r\n",
    "\r\n",
    "my_function(1, 2, 3)\r\n",
    "# 输出:\r\n",
    "# 1\r\n",
    "# 2\r\n",
    "# 3\r\n",
    "```\r\n",
    "\r\n",
    "2. 解包参数：在函数调用时，*variable 用于将一个可迭代对象（如列表、元组等）中的元素解包为独立的位置参数。这种语法可以用于传递一个可变数量的参数给函数。例如：\r\n",
    "\r\n",
    "```python\r\n",
    "def my_function(a, b, c):\r\n",
    "    print(a, b, c)\r\n",
    "\r\n",
    "my_list = [1, 2, 3]\r\n",
    "my_function(*my_list)\r\n",
    "# 输出:\r\n",
    "# 1 2 3\r\n",
    "```\r\n",
    "\r\n",
    "在这个例子中，*my_list 会将列表中的元素解包为独立的位置参数，传递给函数 my_function。\r\n",
    "\r\n",
    "总之，*variable 的主要作用是用于处理可变数量的参数，无论是在函数定义时接受可变参数，还是在函数调用时将可迭代对象解包为独立的参数。"
   ]
  },
  {
   "cell_type": "markdown",
   "id": "9ecafb9f-e0ff-4969-b0ff-a81fbb59b326",
   "metadata": {},
   "source": [
    "列表是可迭代的对象，我们可以通过列表来创建集合。"
   ]
  },
  {
   "cell_type": "code",
   "execution_count": 7,
   "id": "b64cdc94-83f9-41e9-bdf0-7b53e8352b8f",
   "metadata": {},
   "outputs": [
    {
     "data": {
      "text/latex": [
       "$\\displaystyle \\left\\{1, 2, 3, 4, 5\\right\\}$"
      ],
      "text/plain": [
       "{1, 2, 3, 4, 5}"
      ]
     },
     "execution_count": 7,
     "metadata": {},
     "output_type": "execute_result"
    }
   ],
   "source": [
    "members = [1, 2, 3, 4, 5]\n",
    "s = FiniteSet(*members)  # *variable为对 可迭代的变量variable 设置为独立的位置参数。\n",
    "s"
   ]
  },
  {
   "cell_type": "markdown",
   "id": "c1ebcab3-6d6c-4edd-bb4e-4b8d404fcb5f",
   "metadata": {},
   "source": [
    "**子集，超集与幂集**"
   ]
  },
  {
   "cell_type": "markdown",
   "id": "13bacd97-e7e8-4a2e-930f-dcaca60ae06c",
   "metadata": {},
   "source": [
    "首先由两个集合："
   ]
  },
  {
   "cell_type": "code",
   "execution_count": 8,
   "id": "6c89b568-95ac-4e1c-8886-7ada61f3ecad",
   "metadata": {},
   "outputs": [],
   "source": [
    "s = FiniteSet(1)\n",
    "t = FiniteSet(1, 2)"
   ]
  },
  {
   "cell_type": "markdown",
   "id": "62e1aed9-da4f-40d2-bd29-fca751ed9b25",
   "metadata": {},
   "source": [
    "然后使用 is_subset() 来判断是否是子集合："
   ]
  },
  {
   "cell_type": "code",
   "execution_count": 9,
   "id": "651f2d5e-2c7f-43f8-9edc-aa311571db17",
   "metadata": {},
   "outputs": [
    {
     "data": {
      "text/plain": [
       "True"
      ]
     },
     "execution_count": 9,
     "metadata": {},
     "output_type": "execute_result"
    }
   ],
   "source": [
    "s.is_subset(t)"
   ]
  },
  {
   "cell_type": "markdown",
   "id": "4138ad90-7cc2-414f-85b5-0d28c9dd3716",
   "metadata": {},
   "source": [
    "接着使用 is_superset()来判断是否是超集。"
   ]
  },
  {
   "cell_type": "code",
   "execution_count": 10,
   "id": "bfe2791e-9081-4d67-9f73-1c6b9356c6de",
   "metadata": {},
   "outputs": [
    {
     "data": {
      "text/plain": [
       "True"
      ]
     },
     "execution_count": 10,
     "metadata": {},
     "output_type": "execute_result"
    }
   ],
   "source": [
    "t.is_superset(s)"
   ]
  },
  {
   "cell_type": "markdown",
   "id": "bcf7f39d-51c5-43dc-b473-d2c26dc959c6",
   "metadata": {},
   "source": [
    "幂集是指一个集合的所有子集构成的集合。换句话说，对于集合 S 的幂集，包含 S 的所有子集，包括空集和 S 本身。\r\n",
    "\r\n",
    "在 Python 中，可以使用 itertools 模块来求出一个集合的幂集。itertools 模块提供了一系列用于迭代的工具，其中的 combinations 函数可以帮助我们找到一个集合的所有子集。\r\n",
    "\r\n",
    "以下是一个使用 itertools 模块来求幂集的示例：\r\n",
    "\r\n",
    "```python\r\n",
    "import itertools\r\n",
    "\r\n",
    "def powerset(s):\r\n",
    "    \"\"\"\r\n",
    "    返回集合 s 的幂集\r\n",
    "    \"\"\"\r\n",
    "    power_set = []\r\n",
    "    for i in range(len(s) + 1):\r\n",
    "        power_set.extend(itertools.combinations(s, i))\r\n",
    "    return power_set\r\n",
    "\r\n",
    "# 测试\r\n",
    "s = {1, 2, 3}\r\n",
    "print(powerset(s))\r\n",
    "```\r\n",
    "\r\n",
    "在这个示例中，我们首先导入 itertools 模块，然后定义了一个名为 powerset 的函数，该函数接受一个集合 s 作为参数。在函数内部，我们使用 itertools.combinations 函数来生成 s 的所有子集，并将它们存储在 power_set 列表中。最后返回这个列表，即为集合 s 的幂集。\r\n",
    "\r\n",
    "使用以上代码，对于集合 {1, 2, 3}，将会得到如下输出：\r\n",
    "```\r\n",
    "[(), (1,), (2,), (3,), (1, 2), (1, 3), (2, 3), (1, 2, 3)]\r\n",
    "```\r\n",
    "\r\n",
    "这些元组分别代表了集合 {1, 2, 3} 的所有子集，包括空集和集合本身。"
   ]
  },
  {
   "cell_type": "code",
   "execution_count": 11,
   "id": "11d73749-71b0-4fa2-8a80-13edf3790a0e",
   "metadata": {},
   "outputs": [
    {
     "data": {
      "text/latex": [
       "$\\displaystyle \\left\\{\\emptyset, \\left\\{1\\right\\}, \\left\\{2\\right\\}, \\left\\{3\\right\\}, \\left\\{1, 2\\right\\}, \\left\\{1, 3\\right\\}, \\left\\{2, 3\\right\\}, \\left\\{1, 2, 3\\right\\}\\right\\}$"
      ],
      "text/plain": [
       "FiniteSet(EmptySet, {1}, {2}, {3}, {1, 2}, {1, 3}, {2, 3}, {1, 2, 3})"
      ]
     },
     "execution_count": 11,
     "metadata": {},
     "output_type": "execute_result"
    }
   ],
   "source": [
    "s = FiniteSet(1, 2, 3)\n",
    "ps = s.powerset()\n",
    "ps"
   ]
  },
  {
   "cell_type": "markdown",
   "id": "053e9a76-4592-4f40-914e-50f959931c29",
   "metadata": {},
   "source": [
    "基于子集的定义，任意两个包含完全相同的集合互为子集和超集。\n",
    "\n",
    "而如果 s 为 t的 真子集，则需要 s 中的所有元素都在 t 中，但是 t 中由一个元素不在 s 中。"
   ]
  },
  {
   "cell_type": "code",
   "execution_count": 12,
   "id": "347689dd-bb3b-4b7f-81ef-6568c4243736",
   "metadata": {},
   "outputs": [],
   "source": [
    "# 测试\n",
    "s = FiniteSet(1, 2, 3)\n",
    "t = FiniteSet(1, 2, 3)"
   ]
  },
  {
   "cell_type": "code",
   "execution_count": 13,
   "id": "44c209df-b31a-4684-8e63-9c71db46ab48",
   "metadata": {},
   "outputs": [
    {
     "data": {
      "text/plain": [
       "True"
      ]
     },
     "execution_count": 13,
     "metadata": {},
     "output_type": "execute_result"
    }
   ],
   "source": [
    "# 子集\n",
    "s.is_subset(t)"
   ]
  },
  {
   "cell_type": "code",
   "execution_count": 14,
   "id": "ad559279-e9f5-493a-ba25-f5377d39ef43",
   "metadata": {},
   "outputs": [
    {
     "data": {
      "text/plain": [
       "True"
      ]
     },
     "execution_count": 14,
     "metadata": {},
     "output_type": "execute_result"
    }
   ],
   "source": [
    "t.is_subset(s)"
   ]
  },
  {
   "cell_type": "code",
   "execution_count": 15,
   "id": "e7a22295-f812-484c-a267-537b6aa7f086",
   "metadata": {},
   "outputs": [
    {
     "data": {
      "text/plain": [
       "True"
      ]
     },
     "execution_count": 15,
     "metadata": {},
     "output_type": "execute_result"
    }
   ],
   "source": [
    "# 超集\n",
    "s.is_superset(t)"
   ]
  },
  {
   "cell_type": "code",
   "execution_count": 16,
   "id": "98378072-ec87-430b-81ea-013eec41502f",
   "metadata": {},
   "outputs": [
    {
     "data": {
      "text/plain": [
       "True"
      ]
     },
     "execution_count": 16,
     "metadata": {},
     "output_type": "execute_result"
    }
   ],
   "source": [
    "t.is_superset(s)"
   ]
  },
  {
   "cell_type": "markdown",
   "id": "7730eac6-c443-44fd-a88f-870adbed906e",
   "metadata": {},
   "source": [
    "接着测试是否是真子集："
   ]
  },
  {
   "cell_type": "code",
   "execution_count": 17,
   "id": "b0c0c9c8-9c94-4997-9151-e176b1158105",
   "metadata": {},
   "outputs": [
    {
     "data": {
      "text/plain": [
       "False"
      ]
     },
     "execution_count": 17,
     "metadata": {},
     "output_type": "execute_result"
    }
   ],
   "source": [
    "s.is_proper_subset(t)"
   ]
  },
  {
   "cell_type": "code",
   "execution_count": 18,
   "id": "b576ec2f-3c07-4dea-8b33-510a3c556ce5",
   "metadata": {},
   "outputs": [
    {
     "data": {
      "text/plain": [
       "False"
      ]
     },
     "execution_count": 18,
     "metadata": {},
     "output_type": "execute_result"
    }
   ],
   "source": [
    "t.is_proper_subset(s)"
   ]
  },
  {
   "cell_type": "code",
   "execution_count": 19,
   "id": "6a970ec2-92a4-4208-8074-d01fd0ecb2bb",
   "metadata": {},
   "outputs": [],
   "source": [
    "# 修改一下t的元素\n",
    "t = FiniteSet(1, 2, 3, 4)"
   ]
  },
  {
   "cell_type": "code",
   "execution_count": 20,
   "id": "3ac6527a-258a-4118-8a5d-eb94d2675ec1",
   "metadata": {},
   "outputs": [
    {
     "data": {
      "text/plain": [
       "True"
      ]
     },
     "execution_count": 20,
     "metadata": {},
     "output_type": "execute_result"
    }
   ],
   "source": [
    "s.is_proper_subset(t)"
   ]
  },
  {
   "cell_type": "markdown",
   "id": "2c742ba5-ff46-4904-9197-d340cbbc0454",
   "metadata": {},
   "source": [
    "**集合运算**"
   ]
  },
  {
   "cell_type": "markdown",
   "id": "98b7b891-3eaf-4ff2-b58f-3852047b589f",
   "metadata": {},
   "source": [
    "两个集合的并集（union）是一个集合，并集包含了两个集合中的所有元素。使用符号 $ a \\cup b $ 来进行表示。\n",
    "\n",
    "例子：$a = \\left\\{1, 2\\right\\}, b = \\left\\{2, 3 \\right\\}, a \\cup b = \\left\\{1, 2, 3\\right\\}$"
   ]
  },
  {
   "cell_type": "markdown",
   "id": "ca00b6da-c3d3-4708-93d6-42e71021f4ac",
   "metadata": {},
   "source": [
    "在SymPy中，则可以使用 union() 函数来执行："
   ]
  },
  {
   "cell_type": "code",
   "execution_count": 21,
   "id": "2b8b3f08-7c76-4008-aa43-af42a5af4eae",
   "metadata": {},
   "outputs": [
    {
     "data": {
      "text/latex": [
       "$\\displaystyle \\left\\{1, 2, 3, 4\\right\\}$"
      ],
      "text/plain": [
       "{1, 2, 3, 4}"
      ]
     },
     "execution_count": 21,
     "metadata": {},
     "output_type": "execute_result"
    }
   ],
   "source": [
    "from sympy import FiniteSet\n",
    "s = FiniteSet(1, 2, 3)\n",
    "t = FiniteSet(2, 3, 4)\n",
    "s.union(t)"
   ]
  },
  {
   "cell_type": "markdown",
   "id": "25350f3d-0dce-43af-95b7-cc6f86d9f0b9",
   "metadata": {},
   "source": [
    "两个集合的交集（intersection）生成一个包含两个中相同元素的集合。"
   ]
  },
  {
   "cell_type": "code",
   "execution_count": 22,
   "id": "3075f24e-50e6-4313-8d71-b42c59698d44",
   "metadata": {},
   "outputs": [
    {
     "data": {
      "text/latex": [
       "$\\displaystyle \\left\\{2, 3\\right\\}$"
      ],
      "text/plain": [
       "{2, 3}"
      ]
     },
     "execution_count": 22,
     "metadata": {},
     "output_type": "execute_result"
    }
   ],
   "source": [
    "from sympy import FiniteSet\n",
    "s = FiniteSet(1, 2, 3)\n",
    "t = FiniteSet(2, 3, 4)\n",
    "s.intersect(t)"
   ]
  },
  {
   "cell_type": "markdown",
   "id": "078fd0c7-84a8-4ef5-b9a8-af78f7ac4d90",
   "metadata": {},
   "source": [
    "我们可以同时计算多个集合的交集："
   ]
  },
  {
   "cell_type": "code",
   "execution_count": 23,
   "id": "03984bc4-8d63-42e0-a8a1-6eb315f3bd85",
   "metadata": {},
   "outputs": [
    {
     "data": {
      "text/latex": [
       "$\\displaystyle \\left\\{3\\right\\}$"
      ],
      "text/plain": [
       "{3}"
      ]
     },
     "execution_count": 23,
     "metadata": {},
     "output_type": "execute_result"
    }
   ],
   "source": [
    "u = FiniteSet(3, 4, 5)\n",
    "\n",
    "s.intersect(t).intersect(u)"
   ]
  },
  {
   "cell_type": "markdown",
   "id": "e753b30d-dc77-4630-96cb-f68b3440f32b",
   "metadata": {},
   "source": [
    "# 笛卡尔积"
   ]
  },
  {
   "cell_type": "markdown",
   "id": "c183a5a2-1d91-4b51-a104-83fbbe7e2464",
   "metadata": {},
   "source": [
    "笛卡尔积是集合论中的一个概念，它描述了多个集合之间的一种组合方式。给定两个集合 A 和 B，它们的笛卡尔积是一个集合，其中的每个元素都是由 A 中的元素和 B 中的元素按照顺序组成的有序对。换句话说，笛卡尔积是对所有可能的组合进行组合。\r\n",
    "\r\n",
    "假设 A = {a, b}，B = {1, 2}，则 A 和 B 的笛卡尔积为 {(a, 1), (a, 2), (b, 1), (b, 2)}。\r\n",
    "\r\n",
    "在 Python 中，可以使用 itertools 模块中的 product 函数来计算笛卡尔积。以下是一个示例：\r\n",
    "\r\n",
    "```python\r\n",
    "import itertools\r\n",
    "\r\n",
    "A = {1, 2}\r\n",
    "B = {'a', 'b', 'c'}\r\n",
    "\r\n",
    "cartesian_product = list(itertools.product(A, B))\r\n",
    "print(cartesian_product)\r\n",
    "```\r\n",
    "\r\n",
    "在这个示例中，我们首先导入 itertools 模块，然后定义了两个集合 A 和 B。接下来，我们使用 itertools.product 函数来计算集合 A 和 B 的笛卡尔积，并将结果存储在 cartesian_product 中。最后打印 cartesian_product，即可得到 A 和 B 的笛卡尔积。\r\n",
    "\r\n",
    "运行以上代码，将会得到如下输出：\r\n",
    "```\r\n",
    "[(1, 'a'), (1, 'b'), (1, 'c'), (2, 'a'), (2, 'b'), (2, 'c')]\r\n",
    "```\r\n",
    "\r\n",
    "这些元组分别代表了集合 A 和 B 的笛卡尔积中的所有元素，即所有可能的组合。"
   ]
  },
  {
   "cell_type": "code",
   "execution_count": 24,
   "id": "e5390855-9381-4a27-b7b6-ba0944df5ab1",
   "metadata": {},
   "outputs": [
    {
     "data": {
      "text/latex": [
       "$\\displaystyle \\left\\{1, 2\\right\\} \\times \\left\\{3, 4\\right\\}$"
      ],
      "text/plain": [
       "ProductSet({1, 2}, {3, 4})"
      ]
     },
     "execution_count": 24,
     "metadata": {},
     "output_type": "execute_result"
    }
   ],
   "source": [
    "from sympy import FiniteSet\n",
    "\n",
    "s = FiniteSet(1, 2)\n",
    "t = FiniteSet(3, 4)\n",
    "p = s * t\n",
    "p"
   ]
  },
  {
   "cell_type": "markdown",
   "id": "1dad987d-a0e0-4578-91eb-17ae7e1c0856",
   "metadata": {},
   "source": [
    "接着使用循环来计算出所有的组合："
   ]
  },
  {
   "cell_type": "code",
   "execution_count": 25,
   "id": "f018ebed-1783-4794-85cb-269c758455f1",
   "metadata": {},
   "outputs": [
    {
     "name": "stdout",
     "output_type": "stream",
     "text": [
      "(1, 3)\n",
      "(2, 3)\n",
      "(1, 4)\n",
      "(2, 4)\n"
     ]
    }
   ],
   "source": [
    "for elem in p:\n",
    "    print(elem)"
   ]
  },
  {
   "cell_type": "markdown",
   "id": "13489153-7b68-4278-a8ab-938d151116e6",
   "metadata": {},
   "source": [
    "笛卡尔积中的每一对元素都是一个元组，包含着分别来自第一个集合和第二个集合的元素。"
   ]
  },
  {
   "cell_type": "markdown",
   "id": "2ed7d4df-ed0a-4cea-8dad-07081309306b",
   "metadata": {},
   "source": [
    "笛卡尔积的奇数是两个各自奇数的乘积。"
   ]
  },
  {
   "cell_type": "code",
   "execution_count": 26,
   "id": "c8ef3cda-19d2-45e4-b0d7-117691010943",
   "metadata": {},
   "outputs": [
    {
     "data": {
      "text/plain": [
       "True"
      ]
     },
     "execution_count": 26,
     "metadata": {},
     "output_type": "execute_result"
    }
   ],
   "source": [
    "len(p) == len(s) * len(t)"
   ]
  },
  {
   "cell_type": "markdown",
   "id": "ccbfa94e-bf8e-41cd-a5c4-a5a86bc456f0",
   "metadata": {},
   "source": [
    "集合可以进行指数运算，从而获得与自身相乘指定次数的笛卡尔积："
   ]
  },
  {
   "cell_type": "code",
   "execution_count": 27,
   "id": "4c4988b2-f81a-4ace-8cc4-d7fba92d8182",
   "metadata": {},
   "outputs": [
    {
     "data": {
      "text/latex": [
       "$\\displaystyle \\left\\{1, 2\\right\\}^{3}$"
      ],
      "text/plain": [
       "ProductSet({1, 2}, {1, 2}, {1, 2})"
      ]
     },
     "execution_count": 27,
     "metadata": {},
     "output_type": "execute_result"
    }
   ],
   "source": [
    "s ** 3"
   ]
  },
  {
   "cell_type": "code",
   "execution_count": 28,
   "id": "cdbcdb2e-494b-465a-ae8b-a1470244470b",
   "metadata": {},
   "outputs": [
    {
     "name": "stdout",
     "output_type": "stream",
     "text": [
      "(1, 1, 1)\n",
      "(2, 1, 1)\n",
      "(1, 2, 1)\n",
      "(2, 2, 1)\n",
      "(1, 1, 2)\n",
      "(2, 1, 2)\n",
      "(1, 2, 2)\n",
      "(2, 2, 2)\n"
     ]
    }
   ],
   "source": [
    "for elem in s**3:\n",
    "    print(elem)"
   ]
  },
  {
   "cell_type": "markdown",
   "id": "c1df4cec-2be9-498e-baac-f8134dfc1486",
   "metadata": {},
   "source": [
    "**对多个变量集合应用一个公式**"
   ]
  },
  {
   "cell_type": "markdown",
   "id": "367a6ca4-04d2-466a-904f-7a42bda8ae92",
   "metadata": {},
   "source": [
    "考虑一个长度为L的单摆，这个摆的时间周期为T，公式为：\n",
    "\n",
    "$ T=2π\\sqrt{\\frac{l}{g}} $\n",
    "\n",
    "其中，T 是单摆完成一个完整振动周期所需的时间，l 是单摆的长度（即摆球中心到旋转轴的距离），g 是重力加速度。\r\n"
   ]
  },
  {
   "cell_type": "code",
   "execution_count": 29,
   "id": "ca5f6be6-495f-4d23-bff7-f93860ab0127",
   "metadata": {},
   "outputs": [
    {
     "name": "stdout",
     "output_type": "stream",
     "text": [
      "Length: 22.5 cm Time Period : 0.201 s\n",
      "Length: 15.0 cm Time Period : 0.201 s\n",
      "Length: 18.0 cm Time Period : 0.201 s\n",
      "Length: 21.0 cm Time Period : 0.201 s\n",
      "Length: 25.0 cm Time Period : 0.201 s\n"
     ]
    }
   ],
   "source": [
    "from sympy import FiniteSet, pi\n",
    "\n",
    "def time_period(length):\n",
    "    g = 9.8\n",
    "    T = 2 * pi * (length / g) ** 0.5\n",
    "    return T\n",
    "\n",
    "if __name__ == '__main__':\n",
    "    L = FiniteSet(15, 18, 21, 22.5, 25)\n",
    "    for l in L:\n",
    "        t = time_period(1/100)\n",
    "        print('Length: {0} cm Time Period : {1:.3f} s'.format(float(l), float(t)))"
   ]
  },
  {
   "cell_type": "markdown",
   "id": "61f744f2-9327-4c6a-81d6-3153973c2178",
   "metadata": {},
   "source": [
    "# 概率"
   ]
  },
  {
   "cell_type": "markdown",
   "id": "e91de47c-5f16-41c5-82ab-61be039be2e1",
   "metadata": {},
   "source": [
    "**什么是概率**"
   ]
  },
  {
   "cell_type": "markdown",
   "id": "09c41ca0-dbbc-4f40-a1df-c9f26c44dc46",
   "metadata": {},
   "source": [
    "概率是描述随机现象发生可能性大小的一种数学概念。在数学上，概率可以用来描述某个事件发生的可能性，通常用一个介于 0 和 1 之间的实数来表示，0 表示事件不可能发生，1 表示事件一定会发生。\r\n",
    "\r\n",
    "在概率论中，有一些基本的概念需要了解：\r\n",
    "\r\n",
    "1. **试验（Experiment）**：指对随机现象的一次观察或操作。例如，掷一枚硬币、掷一颗骰子等都可以被视为一次试验。\r\n",
    "\r\n",
    "2. **样本空间（Sample Space）**：试验的所有可能结果构成的集合。通常用 S 表示样本空间。样本空间中的每个元素称为样本点（sample point）。\r\n",
    "\r\n",
    "3. **事件（Event）**：样本空间的子集，即样本空间中包含的一些样本点的集合。如果一个事件包含了某个样本点，就表示这个样本点对应的结果属于这个事件。\r\n",
    "\r\n",
    "下面以掷一枚硬币为例来说明这些概念。假设我们进行一次掷硬币的试验，样本空间 S 包含两个样本点，分别表示硬币出现正面和反面，即 S = {正面, 反面}。假设事件 A 表示出现正面，事件 B 表示出现反面。\r\n",
    "\r\n",
    "现在我们可以计算事件 A 和事件 B 的概率：\r\n",
    "- 事件 A 的概率可以用数学公式表示为 P(A) = 出现正面的次数 / 总次数 = 1/2\r\n",
    "- 事件 B 的概率可以用数学公式表示为 P(B) = 出现反面的次数 / 总次数 = 1/2\r\n",
    "\r\n",
    "在这个例子中，样本空间 S = {正面, 反面}，事件 A = {正面}，事件 B = {反面}。事件 A 和事件 B 的概率都是 1/2，这意味着掷硬币出现正面和反面的可能性是相等的。\r\n",
    "\r\n",
    "希望这个例子可以帮助理解试验、样本空间、事件以及概率的概念。"
   ]
  },
  {
   "cell_type": "code",
   "execution_count": 30,
   "id": "dd96a4af-7745-44d5-9252-c93d1100d22d",
   "metadata": {
    "scrolled": true
   },
   "outputs": [
    {
     "name": "stdout",
     "output_type": "stream",
     "text": [
      "Sample space {1, 2, 3, 4, 5, 6, 7, 8, 9, 10, 11, 12, 13, 14, 15, 16, 17, 18, 19, 20}\n",
      "Event: {2}\n",
      "Probability of roloing a prime: 0.05000\n"
     ]
    }
   ],
   "source": [
    "def probability(space, event):\n",
    "    return len(event) / len(space)\n",
    "\n",
    "def check_prime(number):\n",
    "    if number != 1:\n",
    "        for factor in range(2, number):\n",
    "            if number % factor == 0:\n",
    "                return False\n",
    "    else:\n",
    "        return False\n",
    "    return True\n",
    "\n",
    "if __name__ == '__main__':\n",
    "    space = FiniteSet(*range(1, 21))\n",
    "    primes = []\n",
    "    for num in s:\n",
    "        if check_prime(num):\n",
    "            primes.append(num)\n",
    "    event = FiniteSet(*primes)\n",
    "    p = probability(space, event)\n",
    "\n",
    "    print('Sample space {0}'.format(space))\n",
    "    print('Event: {0}'.format(event))\n",
    "    print('Probability of roloing a prime: {0:.5f}'.format(p))"
   ]
  },
  {
   "cell_type": "markdown",
   "id": "35e4822c-7e8d-41f7-9da1-cd504be6a168",
   "metadata": {},
   "source": [
    "**事件A和事件B发生的概率**"
   ]
  },
  {
   "cell_type": "markdown",
   "id": "07badf61-be2a-4445-9450-64f214714029",
   "metadata": {},
   "source": [
    "假设我们有两个事件：\n",
    "\n",
    "1. A = 出现质数\n",
    "2. B = 出现奇数\n",
    "\n",
    "而样本空间则是 S = {1, 2, 3, 4, 5, 6}，事件A表示的是呀根本空间中的质数集合{2, 3, 5}，事件B表示的是样本空间中的奇数集合{1, 3, 5}，要计算至少有一个需要发生，则为计算两者的并集：\n",
    "\n",
    "$ E = \\left\\{2, 3, 5\\right\\} \\cup \\left\\{1, 2, 5\\right\\} = \\left\\{1, 2, 3, 5\\right\\} $\n",
    "\n",
    "$ P(E) = \\frac{n(E)}{n(S)} = \\frac{4}{6} = \\frac{2}{3} $"
   ]
  },
  {
   "cell_type": "code",
   "execution_count": 31,
   "id": "cbe7aee8-642f-4883-b3c6-b81e0630f4b0",
   "metadata": {},
   "outputs": [
    {
     "data": {
      "text/plain": [
       "0.6666666666666666"
      ]
     },
     "execution_count": 31,
     "metadata": {},
     "output_type": "execute_result"
    }
   ],
   "source": [
    "# 使用Python语言来进行实现\n",
    "from sympy import FiniteSet\n",
    "s = FiniteSet(1, 2, 3, 4, 5, 6)\n",
    "a = FiniteSet(2, 3, 5)\n",
    "b = FiniteSet(1, 3, 5)\n",
    "\n",
    "e = a.union(b)\n",
    "len(e) / len(s)"
   ]
  },
  {
   "cell_type": "markdown",
   "id": "e426233c-94a5-4865-bf93-a24d1dcffddb",
   "metadata": {},
   "source": [
    "反过来也可以计算事件A和事件B同时发生的概率。\n",
    "\n",
    "$ E = \\left\\{2, 3, 5\\right\\} \\cap \\left\\{1, 3, 5\\right\\} = \\left\\{3, 5\\right\\} $"
   ]
  },
  {
   "cell_type": "code",
   "execution_count": 32,
   "id": "e484d169-3c91-4c7b-88b7-badbe5008d33",
   "metadata": {},
   "outputs": [
    {
     "data": {
      "text/plain": [
       "0.3333333333333333"
      ]
     },
     "execution_count": 32,
     "metadata": {},
     "output_type": "execute_result"
    }
   ],
   "source": [
    "from sympy import FiniteSet\n",
    "s = FiniteSet(1, 2, 3, 4, 5, 6)\n",
    "a = FiniteSet(2, 3, 5)\n",
    "b = FiniteSet(1, 3, 5)\n",
    "e = a.intersect(b)\n",
    "len(e)/len(s)"
   ]
  },
  {
   "cell_type": "markdown",
   "id": "b9268b8a-d004-4825-92e1-7d2a09ffd32e",
   "metadata": {},
   "source": [
    "**生成随机数**"
   ]
  },
  {
   "cell_type": "code",
   "execution_count": 33,
   "id": "bd35cea3-bd9a-4c4a-ae55-3f94af5b21ae",
   "metadata": {},
   "outputs": [
    {
     "data": {
      "text/plain": [
       "2"
      ]
     },
     "execution_count": 33,
     "metadata": {},
     "output_type": "execute_result"
    }
   ],
   "source": [
    "import random\n",
    "random.randint(1, 6)"
   ]
  },
  {
   "cell_type": "markdown",
   "id": "4e93d135-6d43-46ee-8e80-c0dd6ab80af6",
   "metadata": {},
   "source": [
    "randint(a, b)随机生成一个介于a和b之间的整数，并且包括a和b。"
   ]
  },
  {
   "cell_type": "markdown",
   "id": "886fd4fb-0242-44db-893f-2f6ec8e9a7a1",
   "metadata": {},
   "source": [
    "求投掷出来的值的总和符合目标在允许的投掷次数的范围内的概率是多少："
   ]
  },
  {
   "cell_type": "code",
   "execution_count": 35,
   "id": "4dce5269-c6b0-47d2-87a9-c3031d1fa98b",
   "metadata": {},
   "outputs": [
    {
     "name": "stdin",
     "output_type": "stream",
     "text": [
      "Enter the target score:  25\n",
      "Enter the maximum number of rolls allowed:  5\n"
     ]
    },
    {
     "name": "stdout",
     "output_type": "stream",
     "text": [
      "Probability: 0.03241\n"
     ]
    }
   ],
   "source": [
    "from sympy import FiniteSet\n",
    "import random\n",
    "\n",
    "def find_prob(target_score, max_rolls):\n",
    "    \n",
    "    die_sides = FiniteSet(1, 2, 3, 4, 5, 6)\n",
    "\n",
    "    # sample space\n",
    "    s = die_sides ** max_rolls\n",
    "\n",
    "    # find the event set\n",
    "    if max_rolls > 1:\n",
    "        success_rolls = [elem for elem in s if sum(elem) >= target_score]\n",
    "    else:\n",
    "        success_rolls = [elem for elem in die_sides if elem >= target_score]\n",
    "\n",
    "    e = FiniteSet(*success_rolls)\n",
    "    # calculate the probability of reaching target score\n",
    "    return len(e) / len(s)\n",
    "\n",
    "if __name__ == '__main__':\n",
    "    target_score = int(input('Enter the target score: '))\n",
    "    max_rolls = int(input('Enter the maximum number of rolls allowed: '))\n",
    "    p = find_prob(target_score, max_rolls)\n",
    "    print(\"Probability: {0:.5f}\".format(p))"
   ]
  }
 ],
 "metadata": {
  "kernelspec": {
   "display_name": "Python 3 (ipykernel)",
   "language": "python",
   "name": "python3"
  },
  "language_info": {
   "codemirror_mode": {
    "name": "ipython",
    "version": 3
   },
   "file_extension": ".py",
   "mimetype": "text/x-python",
   "name": "python",
   "nbconvert_exporter": "python",
   "pygments_lexer": "ipython3",
   "version": "3.10.11"
  }
 },
 "nbformat": 4,
 "nbformat_minor": 5
}
